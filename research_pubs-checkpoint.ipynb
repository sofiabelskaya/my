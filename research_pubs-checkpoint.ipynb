{
 "cells": [
  {
   "cell_type": "markdown",
   "metadata": {},
   "source": [
    "Датасет собран с помощью онлайн опроса. Анкета онлайн-опроса включает поведенческую, психографическую, географическую и демографическую информацию об армянских пабах.\n",
    "\n",
    "Эти данные предназначены для независимого проекта, организованного студентами Американского университета Армении в образовательных целях.\n",
    "\n",
    "`Age` - Возраст, количественная переменная \n",
    "\n",
    "`Gender` - Пол, категориальная переменная\n",
    "\n",
    "`Income` - Примерный ежемесячный доход респондента (в армянских драмах), количественная переменная\n",
    "\n",
    "`Occupation` - Профессия, категориальная переменная\n",
    "\n",
    "`Fav_Pub` - Любимый паб, категориальная переменная\n",
    "\n",
    "`WTS` - Максимальное количество денег, которое респондент готов потретить в пабе, количественная переменная\n",
    "\n",
    "`Freq` - Частота посещения пабов, категориальная переменная\n",
    "\n",
    "`Prim_Imp` - Причина посещения паба первостепенной важности для респондента, категориальная переменная\n",
    "\n",
    "`Sec_Imp` - Вторая по важности причина, по которой респондент посещает паб, категориальная переменная\n",
    "\n",
    "`Stratum` - Место жительства, категориальная переменная\n",
    "\n",
    "`Lifestyle` - Образ жизни, категориальная переменная\n",
    "\n",
    "`Occasions` - Наиболее частые обстоятельства посещения паба, категориальная переменная\n",
    "\n",
    "`Timestamp` - Дата и время занесения данных в набор\n",
    "\n",
    "\n",
    "\n",
    "\n"
   ]
  },
  {
   "cell_type": "code",
   "execution_count": 539,
   "metadata": {},
   "outputs": [],
   "source": [
    "import pandas as pd\n",
    "import numpy as np\n",
    "import math\n",
    "import matplotlib.pyplot as plt\n",
    "import seaborn as sns\n",
    "plt.rcParams['figure.figsize'] = (15, 10)"
   ]
  },
  {
   "cell_type": "code",
   "execution_count": 540,
   "metadata": {},
   "outputs": [
    {
     "data": {
      "text/html": [
       "<div>\n",
       "<style scoped>\n",
       "    .dataframe tbody tr th:only-of-type {\n",
       "        vertical-align: middle;\n",
       "    }\n",
       "\n",
       "    .dataframe tbody tr th {\n",
       "        vertical-align: top;\n",
       "    }\n",
       "\n",
       "    .dataframe thead th {\n",
       "        text-align: right;\n",
       "    }\n",
       "</style>\n",
       "<table border=\"1\" class=\"dataframe\">\n",
       "  <thead>\n",
       "    <tr style=\"text-align: right;\">\n",
       "      <th></th>\n",
       "      <th>Timestamp</th>\n",
       "      <th>Age</th>\n",
       "      <th>Gender</th>\n",
       "      <th>Income</th>\n",
       "      <th>Occupation</th>\n",
       "      <th>Fav_Pub</th>\n",
       "      <th>WTS</th>\n",
       "      <th>Freq</th>\n",
       "      <th>Prim_Imp</th>\n",
       "      <th>Sec_Imp</th>\n",
       "      <th>Stratum</th>\n",
       "      <th>Lifestyle</th>\n",
       "      <th>Occasions</th>\n",
       "    </tr>\n",
       "  </thead>\n",
       "  <tbody>\n",
       "    <tr>\n",
       "      <td>0</td>\n",
       "      <td>2017/02/25 10:52:03 PM GMT+4</td>\n",
       "      <td>19</td>\n",
       "      <td>Male</td>\n",
       "      <td>100000.0</td>\n",
       "      <td>Student</td>\n",
       "      <td>Station</td>\n",
       "      <td>2000.0</td>\n",
       "      <td>Several times in a month</td>\n",
       "      <td>Environment</td>\n",
       "      <td>Menu</td>\n",
       "      <td>Capital</td>\n",
       "      <td>Nightlife</td>\n",
       "      <td>Hang outs with friends</td>\n",
       "    </tr>\n",
       "    <tr>\n",
       "      <td>1</td>\n",
       "      <td>2017/02/25 10:53:19 PM GMT+4</td>\n",
       "      <td>19</td>\n",
       "      <td>Female</td>\n",
       "      <td>50000.0</td>\n",
       "      <td>Student</td>\n",
       "      <td>Calumet</td>\n",
       "      <td>2000.0</td>\n",
       "      <td>rarely (once two week/or a month)</td>\n",
       "      <td>Music</td>\n",
       "      <td>Pricing</td>\n",
       "      <td>Capital</td>\n",
       "      <td>Adventure/traveling/exploring</td>\n",
       "      <td>Hang outs with friends</td>\n",
       "    </tr>\n",
       "    <tr>\n",
       "      <td>2</td>\n",
       "      <td>2017/02/25 10:54:05 PM GMT+4</td>\n",
       "      <td>20</td>\n",
       "      <td>Male</td>\n",
       "      <td>100000.0</td>\n",
       "      <td>Student</td>\n",
       "      <td>Liberty</td>\n",
       "      <td>3000.0</td>\n",
       "      <td>rarely (once two week/or a month)</td>\n",
       "      <td>Environment</td>\n",
       "      <td>Music</td>\n",
       "      <td>Capital</td>\n",
       "      <td>Busy(student life, work)</td>\n",
       "      <td>Hang outs with friends</td>\n",
       "    </tr>\n",
       "    <tr>\n",
       "      <td>3</td>\n",
       "      <td>2017/02/25 10:55:09 PM GMT+4</td>\n",
       "      <td>18</td>\n",
       "      <td>Male</td>\n",
       "      <td>0.0</td>\n",
       "      <td>Student</td>\n",
       "      <td>Calumet</td>\n",
       "      <td>3000.0</td>\n",
       "      <td>Several times in a month</td>\n",
       "      <td>Environment</td>\n",
       "      <td>Music</td>\n",
       "      <td>Capital</td>\n",
       "      <td>Art</td>\n",
       "      <td>Hang outs with friends</td>\n",
       "    </tr>\n",
       "    <tr>\n",
       "      <td>4</td>\n",
       "      <td>2017/02/25 10:55:38 PM GMT+4</td>\n",
       "      <td>19</td>\n",
       "      <td>Female</td>\n",
       "      <td>130000.0</td>\n",
       "      <td>Student + working</td>\n",
       "      <td>Liberty</td>\n",
       "      <td>10000.0</td>\n",
       "      <td>rarely (once two week/or a month)</td>\n",
       "      <td>Pricing</td>\n",
       "      <td>Environment</td>\n",
       "      <td>Capital</td>\n",
       "      <td>NaN</td>\n",
       "      <td>Hang outs with friends</td>\n",
       "    </tr>\n",
       "  </tbody>\n",
       "</table>\n",
       "</div>"
      ],
      "text/plain": [
       "                      Timestamp  Age  Gender    Income          Occupation  \\\n",
       "0  2017/02/25 10:52:03 PM GMT+4    19    Male  100000.0            Student   \n",
       "1  2017/02/25 10:53:19 PM GMT+4    19  Female   50000.0            Student   \n",
       "2  2017/02/25 10:54:05 PM GMT+4    20    Male  100000.0            Student   \n",
       "3  2017/02/25 10:55:09 PM GMT+4    18    Male       0.0            Student   \n",
       "4  2017/02/25 10:55:38 PM GMT+4    19  Female  130000.0  Student + working   \n",
       "\n",
       "   Fav_Pub      WTS                               Freq     Prim_Imp  \\\n",
       "0  Station   2000.0           Several times in a month  Environment   \n",
       "1  Calumet   2000.0  rarely (once two week/or a month)        Music   \n",
       "2  Liberty   3000.0  rarely (once two week/or a month)  Environment   \n",
       "3  Calumet   3000.0           Several times in a month  Environment   \n",
       "4  Liberty  10000.0  rarely (once two week/or a month)      Pricing   \n",
       "\n",
       "       Sec_Imp  Stratum                      Lifestyle               Occasions  \n",
       "0         Menu  Capital                      Nightlife  Hang outs with friends  \n",
       "1      Pricing  Capital  Adventure/traveling/exploring  Hang outs with friends  \n",
       "2        Music  Capital       Busy(student life, work)  Hang outs with friends  \n",
       "3        Music  Capital                            Art  Hang outs with friends  \n",
       "4  Environment  Capital                            NaN  Hang outs with friends  "
      ]
     },
     "execution_count": 540,
     "metadata": {},
     "output_type": "execute_result"
    }
   ],
   "source": [
    "armenian_pubs = pd.read_csv('armenian_pubs.csv')\n",
    "armenian_pubs.head()"
   ]
  },
  {
   "cell_type": "code",
   "execution_count": 541,
   "metadata": {},
   "outputs": [
    {
     "name": "stdout",
     "output_type": "stream",
     "text": [
      "<class 'pandas.core.frame.DataFrame'>\n",
      "RangeIndex: 175 entries, 0 to 174\n",
      "Data columns (total 13 columns):\n",
      "Timestamp      175 non-null object\n",
      "Age            175 non-null int64\n",
      "Gender         175 non-null object\n",
      "Income         174 non-null float64\n",
      " Occupation    175 non-null object\n",
      "Fav_Pub        168 non-null object\n",
      "WTS            172 non-null float64\n",
      "Freq           175 non-null object\n",
      "Prim_Imp       175 non-null object\n",
      "Sec_Imp        175 non-null object\n",
      "Stratum        175 non-null object\n",
      "Lifestyle      169 non-null object\n",
      "Occasions      173 non-null object\n",
      "dtypes: float64(2), int64(1), object(10)\n",
      "memory usage: 17.9+ KB\n"
     ]
    }
   ],
   "source": [
    "armenian_pubs.info()"
   ]
  },
  {
   "cell_type": "markdown",
   "metadata": {},
   "source": [
    "# Обработаем наш датасет"
   ]
  },
  {
   "cell_type": "code",
   "execution_count": 542,
   "metadata": {},
   "outputs": [
    {
     "name": "stdout",
     "output_type": "stream",
     "text": [
      "<class 'pandas.core.frame.DataFrame'>\n",
      "RangeIndex: 175 entries, 0 to 174\n",
      "Data columns (total 13 columns):\n",
      "Timestamp     175 non-null object\n",
      "Age           175 non-null int64\n",
      "Gender        175 non-null object\n",
      "Income        174 non-null float64\n",
      "Occupation    175 non-null object\n",
      "Fav_Pub       168 non-null object\n",
      "WTS           172 non-null float64\n",
      "Freq          175 non-null object\n",
      "Prim_Imp      175 non-null object\n",
      "Sec_Imp       175 non-null object\n",
      "Stratum       175 non-null object\n",
      "Lifestyle     169 non-null object\n",
      "Occasions     173 non-null object\n",
      "dtypes: float64(2), int64(1), object(10)\n",
      "memory usage: 17.9+ KB\n"
     ]
    }
   ],
   "source": [
    "# Есть пропущенные значения + есть пробелы в названиях\n",
    "armenian_pubs.columns = armenian_pubs.columns.str.strip()\n",
    "armenian_pubs.info()"
   ]
  },
  {
   "cell_type": "code",
   "execution_count": 543,
   "metadata": {},
   "outputs": [
    {
     "data": {
      "text/plain": [
       "array(['Student', 'Student + working', 'Working', 'CEO',\n",
       "       'Entrepreneur / Software Engineer', 'army', 'Working '],\n",
       "      dtype=object)"
      ]
     },
     "execution_count": 543,
     "metadata": {},
     "output_type": "execute_result"
    }
   ],
   "source": [
    "armenian_pubs['Occupation'].unique()"
   ]
  },
  {
   "cell_type": "code",
   "execution_count": 544,
   "metadata": {},
   "outputs": [
    {
     "data": {
      "text/html": [
       "<div>\n",
       "<style scoped>\n",
       "    .dataframe tbody tr th:only-of-type {\n",
       "        vertical-align: middle;\n",
       "    }\n",
       "\n",
       "    .dataframe tbody tr th {\n",
       "        vertical-align: top;\n",
       "    }\n",
       "\n",
       "    .dataframe thead th {\n",
       "        text-align: right;\n",
       "    }\n",
       "</style>\n",
       "<table border=\"1\" class=\"dataframe\">\n",
       "  <thead>\n",
       "    <tr style=\"text-align: right;\">\n",
       "      <th></th>\n",
       "      <th>Timestamp</th>\n",
       "      <th>Age</th>\n",
       "      <th>Gender</th>\n",
       "      <th>Income</th>\n",
       "      <th>Occupation</th>\n",
       "      <th>Fav_Pub</th>\n",
       "      <th>WTS</th>\n",
       "      <th>Freq</th>\n",
       "      <th>Prim_Imp</th>\n",
       "      <th>Sec_Imp</th>\n",
       "      <th>Stratum</th>\n",
       "      <th>Lifestyle</th>\n",
       "      <th>Occasions</th>\n",
       "    </tr>\n",
       "  </thead>\n",
       "  <tbody>\n",
       "    <tr>\n",
       "      <td>130</td>\n",
       "      <td>2017/02/27 10:00:03 PM GMT+4</td>\n",
       "      <td>19</td>\n",
       "      <td>Male</td>\n",
       "      <td>NaN</td>\n",
       "      <td>Student</td>\n",
       "      <td>Station</td>\n",
       "      <td>2000.0</td>\n",
       "      <td>Several times in a month</td>\n",
       "      <td>Pricing</td>\n",
       "      <td>Music</td>\n",
       "      <td>Capital</td>\n",
       "      <td>Sport</td>\n",
       "      <td>Hang outs with friends</td>\n",
       "    </tr>\n",
       "  </tbody>\n",
       "</table>\n",
       "</div>"
      ],
      "text/plain": [
       "                        Timestamp  Age Gender  Income Occupation  Fav_Pub  \\\n",
       "130  2017/02/27 10:00:03 PM GMT+4   19   Male     NaN    Student  Station   \n",
       "\n",
       "        WTS                      Freq Prim_Imp Sec_Imp  Stratum Lifestyle  \\\n",
       "130  2000.0  Several times in a month  Pricing   Music  Capital     Sport   \n",
       "\n",
       "                  Occasions  \n",
       "130  Hang outs with friends  "
      ]
     },
     "execution_count": 544,
     "metadata": {},
     "output_type": "execute_result"
    }
   ],
   "source": [
    "# посмотрим какое значение пропущено\n",
    "armenian_pubs[armenian_pubs['Income'].isnull()]"
   ]
  },
  {
   "cell_type": "code",
   "execution_count": 545,
   "metadata": {},
   "outputs": [],
   "source": [
    "# так как оно всего одно, обработаем вручную и внесем среднее по наиболее близким обьектам \n",
    "a = armenian_pubs[(armenian_pubs['Gender'] == 'Male') & (armenian_pubs['Occupation'] == 'Student') & (armenian_pubs['Age'] == 19)]['Income'].mean()"
   ]
  },
  {
   "cell_type": "code",
   "execution_count": 546,
   "metadata": {},
   "outputs": [
    {
     "data": {
      "text/plain": [
       "Timestamp     2017/02/27 10:00:03 PM GMT+4\n",
       "Age                                     19\n",
       "Gender                                Male\n",
       "Income                               68125\n",
       "Occupation                         Student\n",
       "Fav_Pub                            Station\n",
       "WTS                                   2000\n",
       "Freq              Several times in a month\n",
       "Prim_Imp                           Pricing\n",
       "Sec_Imp                              Music\n",
       "Stratum                            Capital\n",
       "Lifestyle                            Sport\n",
       "Occasions           Hang outs with friends\n",
       "Name: 130, dtype: object"
      ]
     },
     "execution_count": 546,
     "metadata": {},
     "output_type": "execute_result"
    }
   ],
   "source": [
    "armenian_pubs.at[130, 'Income'] = a\n",
    "armenian_pubs.iloc[130]"
   ]
  },
  {
   "cell_type": "code",
   "execution_count": 547,
   "metadata": {},
   "outputs": [
    {
     "data": {
      "text/html": [
       "<div>\n",
       "<style scoped>\n",
       "    .dataframe tbody tr th:only-of-type {\n",
       "        vertical-align: middle;\n",
       "    }\n",
       "\n",
       "    .dataframe tbody tr th {\n",
       "        vertical-align: top;\n",
       "    }\n",
       "\n",
       "    .dataframe thead th {\n",
       "        text-align: right;\n",
       "    }\n",
       "</style>\n",
       "<table border=\"1\" class=\"dataframe\">\n",
       "  <thead>\n",
       "    <tr style=\"text-align: right;\">\n",
       "      <th></th>\n",
       "      <th>Timestamp</th>\n",
       "      <th>Age</th>\n",
       "      <th>Gender</th>\n",
       "      <th>Income</th>\n",
       "      <th>Occupation</th>\n",
       "      <th>Fav_Pub</th>\n",
       "      <th>WTS</th>\n",
       "      <th>Freq</th>\n",
       "      <th>Prim_Imp</th>\n",
       "      <th>Sec_Imp</th>\n",
       "      <th>Stratum</th>\n",
       "      <th>Lifestyle</th>\n",
       "      <th>Occasions</th>\n",
       "    </tr>\n",
       "  </thead>\n",
       "  <tbody>\n",
       "    <tr>\n",
       "      <td>30</td>\n",
       "      <td>2017/02/25 11:07:07 PM GMT+4</td>\n",
       "      <td>18</td>\n",
       "      <td>Female</td>\n",
       "      <td>0.0</td>\n",
       "      <td>Student</td>\n",
       "      <td>NaN</td>\n",
       "      <td>1500.0</td>\n",
       "      <td>Several times in a month</td>\n",
       "      <td>Environment</td>\n",
       "      <td>Menu</td>\n",
       "      <td>Capital</td>\n",
       "      <td>NaN</td>\n",
       "      <td>Hang outs with friends</td>\n",
       "    </tr>\n",
       "    <tr>\n",
       "      <td>42</td>\n",
       "      <td>2017/02/25 11:15:13 PM GMT+4</td>\n",
       "      <td>20</td>\n",
       "      <td>Male</td>\n",
       "      <td>200000.0</td>\n",
       "      <td>Student</td>\n",
       "      <td>NaN</td>\n",
       "      <td>2000.0</td>\n",
       "      <td>rarely (once two week/or a month)</td>\n",
       "      <td>Environment</td>\n",
       "      <td>Pricing</td>\n",
       "      <td>Urban</td>\n",
       "      <td>Sport</td>\n",
       "      <td>Special events/parties</td>\n",
       "    </tr>\n",
       "    <tr>\n",
       "      <td>94</td>\n",
       "      <td>2017/02/26 11:14:33 AM GMT+4</td>\n",
       "      <td>23</td>\n",
       "      <td>Female</td>\n",
       "      <td>700000.0</td>\n",
       "      <td>Working</td>\n",
       "      <td>NaN</td>\n",
       "      <td>5000.0</td>\n",
       "      <td>rarely (once two week/or a month)</td>\n",
       "      <td>Environment</td>\n",
       "      <td>Menu</td>\n",
       "      <td>Capital</td>\n",
       "      <td>Busy(student life, work)</td>\n",
       "      <td>Hang outs with friends</td>\n",
       "    </tr>\n",
       "    <tr>\n",
       "      <td>109</td>\n",
       "      <td>2017/02/26 2:42:20 PM GMT+4</td>\n",
       "      <td>20</td>\n",
       "      <td>Male</td>\n",
       "      <td>60000.0</td>\n",
       "      <td>Student + working</td>\n",
       "      <td>NaN</td>\n",
       "      <td>5000.0</td>\n",
       "      <td>rarely (once two week/or a month)</td>\n",
       "      <td>Music</td>\n",
       "      <td>Menu</td>\n",
       "      <td>Urban</td>\n",
       "      <td>Art</td>\n",
       "      <td>Hang outs with friends</td>\n",
       "    </tr>\n",
       "    <tr>\n",
       "      <td>131</td>\n",
       "      <td>2017/02/27 10:30:03 PM GMT+4</td>\n",
       "      <td>18</td>\n",
       "      <td>Female</td>\n",
       "      <td>100000.0</td>\n",
       "      <td>Student</td>\n",
       "      <td>NaN</td>\n",
       "      <td>10000.0</td>\n",
       "      <td>rarely (once two week/or a month)</td>\n",
       "      <td>Environment</td>\n",
       "      <td>Music</td>\n",
       "      <td>Urban</td>\n",
       "      <td>Busy(student life, work)</td>\n",
       "      <td>Birthdays</td>\n",
       "    </tr>\n",
       "    <tr>\n",
       "      <td>135</td>\n",
       "      <td>2017/03/02 1:46:19 AM GMT+4</td>\n",
       "      <td>23</td>\n",
       "      <td>Male</td>\n",
       "      <td>250000.0</td>\n",
       "      <td>Student + working</td>\n",
       "      <td>NaN</td>\n",
       "      <td>5000.0</td>\n",
       "      <td>Several times in a month</td>\n",
       "      <td>Environment</td>\n",
       "      <td>Pricing</td>\n",
       "      <td>Capital</td>\n",
       "      <td>Busy(student life, work)</td>\n",
       "      <td>Hang outs with friends</td>\n",
       "    </tr>\n",
       "    <tr>\n",
       "      <td>167</td>\n",
       "      <td>2017/03/02 10:20:02 PM GMT+4</td>\n",
       "      <td>26</td>\n",
       "      <td>Male</td>\n",
       "      <td>190000.0</td>\n",
       "      <td>Working</td>\n",
       "      <td>NaN</td>\n",
       "      <td>10000.0</td>\n",
       "      <td>Several times in a month</td>\n",
       "      <td>Music</td>\n",
       "      <td>Environment</td>\n",
       "      <td>Capital</td>\n",
       "      <td>Busy(student life, work)</td>\n",
       "      <td>Hang outs with friends</td>\n",
       "    </tr>\n",
       "  </tbody>\n",
       "</table>\n",
       "</div>"
      ],
      "text/plain": [
       "                        Timestamp  Age  Gender    Income         Occupation  \\\n",
       "30   2017/02/25 11:07:07 PM GMT+4   18  Female       0.0            Student   \n",
       "42   2017/02/25 11:15:13 PM GMT+4   20    Male  200000.0            Student   \n",
       "94   2017/02/26 11:14:33 AM GMT+4   23  Female  700000.0            Working   \n",
       "109   2017/02/26 2:42:20 PM GMT+4   20    Male   60000.0  Student + working   \n",
       "131  2017/02/27 10:30:03 PM GMT+4   18  Female  100000.0            Student   \n",
       "135   2017/03/02 1:46:19 AM GMT+4   23    Male  250000.0  Student + working   \n",
       "167  2017/03/02 10:20:02 PM GMT+4   26    Male  190000.0           Working    \n",
       "\n",
       "    Fav_Pub      WTS                               Freq     Prim_Imp  \\\n",
       "30      NaN   1500.0           Several times in a month  Environment   \n",
       "42      NaN   2000.0  rarely (once two week/or a month)  Environment   \n",
       "94      NaN   5000.0  rarely (once two week/or a month)  Environment   \n",
       "109     NaN   5000.0  rarely (once two week/or a month)        Music   \n",
       "131     NaN  10000.0  rarely (once two week/or a month)  Environment   \n",
       "135     NaN   5000.0           Several times in a month  Environment   \n",
       "167     NaN  10000.0           Several times in a month        Music   \n",
       "\n",
       "         Sec_Imp  Stratum                 Lifestyle               Occasions  \n",
       "30          Menu  Capital                       NaN  Hang outs with friends  \n",
       "42       Pricing    Urban                     Sport  Special events/parties  \n",
       "94          Menu  Capital  Busy(student life, work)  Hang outs with friends  \n",
       "109         Menu    Urban                       Art  Hang outs with friends  \n",
       "131        Music    Urban  Busy(student life, work)               Birthdays  \n",
       "135      Pricing  Capital  Busy(student life, work)  Hang outs with friends  \n",
       "167  Environment  Capital  Busy(student life, work)  Hang outs with friends  "
      ]
     },
     "execution_count": 547,
     "metadata": {},
     "output_type": "execute_result"
    }
   ],
   "source": [
    "armenian_pubs[armenian_pubs['Fav_Pub'].isnull()] "
   ]
  },
  {
   "cell_type": "code",
   "execution_count": 548,
   "metadata": {},
   "outputs": [
    {
     "data": {
      "text/plain": [
       "array(['Station', 'Calumet', 'Liberty', 'Irish', \"I don't like pubs\",\n",
       "       'Venue', 'VOID', 'DAS', '37 pub', 'Venue ', 'Cantaloupe', nan,\n",
       "       'Tom Collins ', 'Bulldog', 'Pepper', 'Eden', 'Liberty ',\n",
       "       'Hemingway', 'Void', 'I have none', 'Pub 37', 'Red bull',\n",
       "       'Varonna', 'Barcode', 'Paparazzi ', 'Pechenu bagher', 'Dargett',\n",
       "       'Pub 007', 'Do not have one', 'kaptyorka', 'DAS ', 'Paulaner',\n",
       "       'Wild west', 'BullDog', 'Tom collins', \"Bob's\", 'Fiction',\n",
       "       'Tom Collins', 'The beatles', 'Ulixanyan art club', 'Simona',\n",
       "       'Speak Easy ', 'Beer Academy', 'Yankee', 'Beatles'], dtype=object)"
      ]
     },
     "execution_count": 548,
     "metadata": {},
     "output_type": "execute_result"
    }
   ],
   "source": [
    "armenian_pubs['Fav_Pub'].unique()"
   ]
  },
  {
   "cell_type": "code",
   "execution_count": 549,
   "metadata": {},
   "outputs": [
    {
     "data": {
      "text/plain": [
       "45"
      ]
     },
     "execution_count": 549,
     "metadata": {},
     "output_type": "execute_result"
    }
   ],
   "source": [
    "armenian_pubs['Fav_Pub'].unique().size"
   ]
  },
  {
   "cell_type": "code",
   "execution_count": 550,
   "metadata": {},
   "outputs": [
    {
     "data": {
      "text/plain": [
       "38"
      ]
     },
     "execution_count": 550,
     "metadata": {},
     "output_type": "execute_result"
    }
   ],
   "source": [
    "armenian_pubs['Fav_Pub'] = armenian_pubs['Fav_Pub'].str.lower()\n",
    "armenian_pubs['Fav_Pub'] = armenian_pubs['Fav_Pub'].str.strip()\n",
    "armenian_pubs['Fav_Pub'].unique().size"
   ]
  },
  {
   "cell_type": "code",
   "execution_count": 551,
   "metadata": {},
   "outputs": [],
   "source": [
    "# заменим поле none, чтобы в дальнейшем не было проблем с построением графиков например\n",
    "armenian_pubs['Fav_Pub'] = armenian_pubs.Fav_Pub.fillna('EMPTY FIELD')"
   ]
  },
  {
   "cell_type": "code",
   "execution_count": 552,
   "metadata": {},
   "outputs": [
    {
     "data": {
      "text/plain": [
       "array(['station', 'calumet', 'liberty', 'irish', \"i don't like pubs\",\n",
       "       'venue', 'void', 'das', '37 pub', 'cantaloupe', 'EMPTY FIELD',\n",
       "       'tom collins', 'bulldog', 'pepper', 'eden', 'hemingway',\n",
       "       'no favorite', 'pub 37', 'red bull', 'varonna', 'barcode',\n",
       "       'paparazzi', 'pechenu bagher', 'dargett', 'pub 007', 'kaptyorka',\n",
       "       'paulaner', 'wild west', \"bob's\", 'fiction', 'the beatles',\n",
       "       'ulixanyan art club', 'simona', 'speak easy', 'beer academy',\n",
       "       'yankee', 'beatles'], dtype=object)"
      ]
     },
     "execution_count": 552,
     "metadata": {},
     "output_type": "execute_result"
    }
   ],
   "source": [
    "# заметим что пустое поле, нет любимого и не люблю бары - разные значения \n",
    "armenian_pubs.Fav_Pub = armenian_pubs.Fav_Pub.replace(['do not have one','i have none'], \"no favorite\")\n",
    "armenian_pubs['Fav_Pub'].unique()"
   ]
  },
  {
   "cell_type": "code",
   "execution_count": 553,
   "metadata": {},
   "outputs": [
    {
     "data": {
      "text/html": [
       "<div>\n",
       "<style scoped>\n",
       "    .dataframe tbody tr th:only-of-type {\n",
       "        vertical-align: middle;\n",
       "    }\n",
       "\n",
       "    .dataframe tbody tr th {\n",
       "        vertical-align: top;\n",
       "    }\n",
       "\n",
       "    .dataframe thead th {\n",
       "        text-align: right;\n",
       "    }\n",
       "</style>\n",
       "<table border=\"1\" class=\"dataframe\">\n",
       "  <thead>\n",
       "    <tr style=\"text-align: right;\">\n",
       "      <th></th>\n",
       "      <th>Timestamp</th>\n",
       "      <th>Age</th>\n",
       "      <th>Gender</th>\n",
       "      <th>Income</th>\n",
       "      <th>Occupation</th>\n",
       "      <th>Fav_Pub</th>\n",
       "      <th>WTS</th>\n",
       "      <th>Freq</th>\n",
       "      <th>Prim_Imp</th>\n",
       "      <th>Sec_Imp</th>\n",
       "      <th>Stratum</th>\n",
       "      <th>Lifestyle</th>\n",
       "      <th>Occasions</th>\n",
       "    </tr>\n",
       "  </thead>\n",
       "  <tbody>\n",
       "    <tr>\n",
       "      <td>8</td>\n",
       "      <td>2017/02/25 10:56:17 PM GMT+4</td>\n",
       "      <td>19</td>\n",
       "      <td>Male</td>\n",
       "      <td>80000.0</td>\n",
       "      <td>Student + working</td>\n",
       "      <td>i don't like pubs</td>\n",
       "      <td>10000.0</td>\n",
       "      <td>rarely (once two week/or a month)</td>\n",
       "      <td>Environment</td>\n",
       "      <td>Music</td>\n",
       "      <td>Capital</td>\n",
       "      <td>Adventure/traveling/exploring</td>\n",
       "      <td>Hang outs with friends</td>\n",
       "    </tr>\n",
       "    <tr>\n",
       "      <td>10</td>\n",
       "      <td>2017/02/25 10:56:52 PM GMT+4</td>\n",
       "      <td>20</td>\n",
       "      <td>Female</td>\n",
       "      <td>80000.0</td>\n",
       "      <td>Student</td>\n",
       "      <td>i don't like pubs</td>\n",
       "      <td>3000.0</td>\n",
       "      <td>rarely (once two week/or a month)</td>\n",
       "      <td>Environment</td>\n",
       "      <td>Menu</td>\n",
       "      <td>Capital</td>\n",
       "      <td>Art</td>\n",
       "      <td>Special events/parties</td>\n",
       "    </tr>\n",
       "    <tr>\n",
       "      <td>17</td>\n",
       "      <td>2017/02/25 10:59:25 PM GMT+4</td>\n",
       "      <td>19</td>\n",
       "      <td>Female</td>\n",
       "      <td>50000.0</td>\n",
       "      <td>Student</td>\n",
       "      <td>i don't like pubs</td>\n",
       "      <td>8000.0</td>\n",
       "      <td>rarely (once two week/or a month)</td>\n",
       "      <td>Environment</td>\n",
       "      <td>Music</td>\n",
       "      <td>Rural</td>\n",
       "      <td>Sport, art, traveling</td>\n",
       "      <td>Birthdays</td>\n",
       "    </tr>\n",
       "    <tr>\n",
       "      <td>19</td>\n",
       "      <td>2017/02/25 10:59:52 PM GMT+4</td>\n",
       "      <td>19</td>\n",
       "      <td>Female</td>\n",
       "      <td>200000.0</td>\n",
       "      <td>Student + working</td>\n",
       "      <td>i don't like pubs</td>\n",
       "      <td>2000.0</td>\n",
       "      <td>rarely (once two week/or a month)</td>\n",
       "      <td>Environment</td>\n",
       "      <td>Music</td>\n",
       "      <td>Urban</td>\n",
       "      <td>Adventure/traveling/exploring</td>\n",
       "      <td>Birthdays</td>\n",
       "    </tr>\n",
       "    <tr>\n",
       "      <td>45</td>\n",
       "      <td>2017/02/25 11:22:14 PM GMT+4</td>\n",
       "      <td>20</td>\n",
       "      <td>Female</td>\n",
       "      <td>100000.0</td>\n",
       "      <td>Student + working</td>\n",
       "      <td>i don't like pubs</td>\n",
       "      <td>2000.0</td>\n",
       "      <td>rarely (once two week/or a month)</td>\n",
       "      <td>Environment</td>\n",
       "      <td>Menu</td>\n",
       "      <td>Capital</td>\n",
       "      <td>Adventure/traveling/exploring</td>\n",
       "      <td>Birthdays</td>\n",
       "    </tr>\n",
       "    <tr>\n",
       "      <td>57</td>\n",
       "      <td>2017/02/25 11:58:45 PM GMT+4</td>\n",
       "      <td>20</td>\n",
       "      <td>Female</td>\n",
       "      <td>0.0</td>\n",
       "      <td>Student</td>\n",
       "      <td>i don't like pubs</td>\n",
       "      <td>1000.0</td>\n",
       "      <td>rarely (once two week/or a month)</td>\n",
       "      <td>Environment</td>\n",
       "      <td>Music</td>\n",
       "      <td>Capital</td>\n",
       "      <td>Passive</td>\n",
       "      <td>Special events/parties</td>\n",
       "    </tr>\n",
       "    <tr>\n",
       "      <td>58</td>\n",
       "      <td>2017/02/26 12:06:19 AM GMT+4</td>\n",
       "      <td>20</td>\n",
       "      <td>Male</td>\n",
       "      <td>60000.0</td>\n",
       "      <td>Student</td>\n",
       "      <td>i don't like pubs</td>\n",
       "      <td>4000.0</td>\n",
       "      <td>rarely (once two week/or a month)</td>\n",
       "      <td>Environment</td>\n",
       "      <td>Music</td>\n",
       "      <td>Capital</td>\n",
       "      <td>Busy(student life, work)</td>\n",
       "      <td>Hang outs with friends</td>\n",
       "    </tr>\n",
       "    <tr>\n",
       "      <td>60</td>\n",
       "      <td>2017/02/26 12:23:24 AM GMT+4</td>\n",
       "      <td>20</td>\n",
       "      <td>Female</td>\n",
       "      <td>70000.0</td>\n",
       "      <td>Student</td>\n",
       "      <td>i don't like pubs</td>\n",
       "      <td>5000.0</td>\n",
       "      <td>rarely (once two week/or a month)</td>\n",
       "      <td>Environment</td>\n",
       "      <td>Music</td>\n",
       "      <td>Capital</td>\n",
       "      <td>Busy(student life, work)</td>\n",
       "      <td>Birthdays</td>\n",
       "    </tr>\n",
       "    <tr>\n",
       "      <td>67</td>\n",
       "      <td>2017/02/26 12:38:48 AM GMT+4</td>\n",
       "      <td>21</td>\n",
       "      <td>Male</td>\n",
       "      <td>200000.0</td>\n",
       "      <td>Student + working</td>\n",
       "      <td>i don't like pubs</td>\n",
       "      <td>0.0</td>\n",
       "      <td>rarely (once two week/or a month)</td>\n",
       "      <td>Environment</td>\n",
       "      <td>Music</td>\n",
       "      <td>Urban</td>\n",
       "      <td>Busy(student life, work)</td>\n",
       "      <td>Never</td>\n",
       "    </tr>\n",
       "    <tr>\n",
       "      <td>72</td>\n",
       "      <td>2017/02/26 12:52:41 AM GMT+4</td>\n",
       "      <td>19</td>\n",
       "      <td>Female</td>\n",
       "      <td>0.0</td>\n",
       "      <td>Student</td>\n",
       "      <td>i don't like pubs</td>\n",
       "      <td>4000.0</td>\n",
       "      <td>rarely (once two week/or a month)</td>\n",
       "      <td>Music</td>\n",
       "      <td>Pricing</td>\n",
       "      <td>Capital</td>\n",
       "      <td>Busy(student life, work)</td>\n",
       "      <td>Birthdays</td>\n",
       "    </tr>\n",
       "    <tr>\n",
       "      <td>77</td>\n",
       "      <td>2017/02/26 1:33:20 AM GMT+4</td>\n",
       "      <td>18</td>\n",
       "      <td>Female</td>\n",
       "      <td>270000.0</td>\n",
       "      <td>Student</td>\n",
       "      <td>i don't like pubs</td>\n",
       "      <td>0.0</td>\n",
       "      <td>rarely (once two week/or a month)</td>\n",
       "      <td>Environment</td>\n",
       "      <td>Pricing</td>\n",
       "      <td>Urban</td>\n",
       "      <td>Busy(student life, work)</td>\n",
       "      <td>Nowere</td>\n",
       "    </tr>\n",
       "    <tr>\n",
       "      <td>79</td>\n",
       "      <td>2017/02/26 2:09:48 AM GMT+4</td>\n",
       "      <td>19</td>\n",
       "      <td>Female</td>\n",
       "      <td>0.0</td>\n",
       "      <td>Student</td>\n",
       "      <td>i don't like pubs</td>\n",
       "      <td>0.0</td>\n",
       "      <td>rarely (once two week/or a month)</td>\n",
       "      <td>Pricing</td>\n",
       "      <td>Environment</td>\n",
       "      <td>Capital</td>\n",
       "      <td>Art</td>\n",
       "      <td>Hang outs with friends</td>\n",
       "    </tr>\n",
       "    <tr>\n",
       "      <td>112</td>\n",
       "      <td>2017/02/26 4:39:59 PM GMT+4</td>\n",
       "      <td>20</td>\n",
       "      <td>Male</td>\n",
       "      <td>50000.0</td>\n",
       "      <td>Student + working</td>\n",
       "      <td>i don't like pubs</td>\n",
       "      <td>2000.0</td>\n",
       "      <td>rarely (once two week/or a month)</td>\n",
       "      <td>Environment</td>\n",
       "      <td>Music</td>\n",
       "      <td>Capital</td>\n",
       "      <td>Art</td>\n",
       "      <td>Hang outs with friends</td>\n",
       "    </tr>\n",
       "    <tr>\n",
       "      <td>132</td>\n",
       "      <td>2017/02/28 5:29:51 PM GMT+4</td>\n",
       "      <td>19</td>\n",
       "      <td>Female</td>\n",
       "      <td>40000.0</td>\n",
       "      <td>Student</td>\n",
       "      <td>i don't like pubs</td>\n",
       "      <td>5000.0</td>\n",
       "      <td>rarely (once two week/or a month)</td>\n",
       "      <td>Environment</td>\n",
       "      <td>Music</td>\n",
       "      <td>Capital</td>\n",
       "      <td>Adventure/traveling/exploring</td>\n",
       "      <td>Hang outs with friends</td>\n",
       "    </tr>\n",
       "    <tr>\n",
       "      <td>154</td>\n",
       "      <td>2017/03/02 11:26:42 AM GMT+4</td>\n",
       "      <td>20</td>\n",
       "      <td>Female</td>\n",
       "      <td>150000.0</td>\n",
       "      <td>Student</td>\n",
       "      <td>i don't like pubs</td>\n",
       "      <td>NaN</td>\n",
       "      <td>rarely (once two week/or a month)</td>\n",
       "      <td>Environment</td>\n",
       "      <td>Music</td>\n",
       "      <td>Capital</td>\n",
       "      <td>Adventure/traveling/exploring</td>\n",
       "      <td>Hang outs with friends</td>\n",
       "    </tr>\n",
       "    <tr>\n",
       "      <td>160</td>\n",
       "      <td>2017/03/02 5:27:32 PM GMT+4</td>\n",
       "      <td>19</td>\n",
       "      <td>Female</td>\n",
       "      <td>0.0</td>\n",
       "      <td>Student</td>\n",
       "      <td>i don't like pubs</td>\n",
       "      <td>15000.0</td>\n",
       "      <td>rarely (once two week/or a month)</td>\n",
       "      <td>Environment</td>\n",
       "      <td>Music</td>\n",
       "      <td>Capital</td>\n",
       "      <td>Adventure/traveling/exploring</td>\n",
       "      <td>Birthdays</td>\n",
       "    </tr>\n",
       "  </tbody>\n",
       "</table>\n",
       "</div>"
      ],
      "text/plain": [
       "                        Timestamp  Age  Gender    Income         Occupation  \\\n",
       "8    2017/02/25 10:56:17 PM GMT+4   19    Male   80000.0  Student + working   \n",
       "10   2017/02/25 10:56:52 PM GMT+4   20  Female   80000.0            Student   \n",
       "17   2017/02/25 10:59:25 PM GMT+4   19  Female   50000.0            Student   \n",
       "19   2017/02/25 10:59:52 PM GMT+4   19  Female  200000.0  Student + working   \n",
       "45   2017/02/25 11:22:14 PM GMT+4   20  Female  100000.0  Student + working   \n",
       "57   2017/02/25 11:58:45 PM GMT+4   20  Female       0.0            Student   \n",
       "58   2017/02/26 12:06:19 AM GMT+4   20    Male   60000.0            Student   \n",
       "60   2017/02/26 12:23:24 AM GMT+4   20  Female   70000.0            Student   \n",
       "67   2017/02/26 12:38:48 AM GMT+4   21    Male  200000.0  Student + working   \n",
       "72   2017/02/26 12:52:41 AM GMT+4   19  Female       0.0            Student   \n",
       "77    2017/02/26 1:33:20 AM GMT+4   18  Female  270000.0            Student   \n",
       "79    2017/02/26 2:09:48 AM GMT+4   19  Female       0.0            Student   \n",
       "112   2017/02/26 4:39:59 PM GMT+4   20    Male   50000.0  Student + working   \n",
       "132   2017/02/28 5:29:51 PM GMT+4   19  Female   40000.0            Student   \n",
       "154  2017/03/02 11:26:42 AM GMT+4   20  Female  150000.0            Student   \n",
       "160   2017/03/02 5:27:32 PM GMT+4   19  Female       0.0            Student   \n",
       "\n",
       "               Fav_Pub      WTS                               Freq  \\\n",
       "8    i don't like pubs  10000.0  rarely (once two week/or a month)   \n",
       "10   i don't like pubs   3000.0  rarely (once two week/or a month)   \n",
       "17   i don't like pubs   8000.0  rarely (once two week/or a month)   \n",
       "19   i don't like pubs   2000.0  rarely (once two week/or a month)   \n",
       "45   i don't like pubs   2000.0  rarely (once two week/or a month)   \n",
       "57   i don't like pubs   1000.0  rarely (once two week/or a month)   \n",
       "58   i don't like pubs   4000.0  rarely (once two week/or a month)   \n",
       "60   i don't like pubs   5000.0  rarely (once two week/or a month)   \n",
       "67   i don't like pubs      0.0  rarely (once two week/or a month)   \n",
       "72   i don't like pubs   4000.0  rarely (once two week/or a month)   \n",
       "77   i don't like pubs      0.0  rarely (once two week/or a month)   \n",
       "79   i don't like pubs      0.0  rarely (once two week/or a month)   \n",
       "112  i don't like pubs   2000.0  rarely (once two week/or a month)   \n",
       "132  i don't like pubs   5000.0  rarely (once two week/or a month)   \n",
       "154  i don't like pubs      NaN  rarely (once two week/or a month)   \n",
       "160  i don't like pubs  15000.0  rarely (once two week/or a month)   \n",
       "\n",
       "        Prim_Imp      Sec_Imp  Stratum                      Lifestyle  \\\n",
       "8    Environment        Music  Capital  Adventure/traveling/exploring   \n",
       "10   Environment         Menu  Capital                            Art   \n",
       "17   Environment        Music    Rural          Sport, art, traveling   \n",
       "19   Environment        Music    Urban  Adventure/traveling/exploring   \n",
       "45   Environment         Menu  Capital  Adventure/traveling/exploring   \n",
       "57   Environment        Music  Capital                       Passive    \n",
       "58   Environment        Music  Capital       Busy(student life, work)   \n",
       "60   Environment        Music  Capital       Busy(student life, work)   \n",
       "67   Environment        Music    Urban       Busy(student life, work)   \n",
       "72         Music      Pricing  Capital       Busy(student life, work)   \n",
       "77   Environment      Pricing    Urban       Busy(student life, work)   \n",
       "79       Pricing  Environment  Capital                            Art   \n",
       "112  Environment        Music  Capital                            Art   \n",
       "132  Environment        Music  Capital  Adventure/traveling/exploring   \n",
       "154  Environment        Music  Capital  Adventure/traveling/exploring   \n",
       "160  Environment        Music  Capital  Adventure/traveling/exploring   \n",
       "\n",
       "                  Occasions  \n",
       "8    Hang outs with friends  \n",
       "10   Special events/parties  \n",
       "17                Birthdays  \n",
       "19                Birthdays  \n",
       "45                Birthdays  \n",
       "57   Special events/parties  \n",
       "58   Hang outs with friends  \n",
       "60                Birthdays  \n",
       "67                    Never  \n",
       "72                Birthdays  \n",
       "77                   Nowere  \n",
       "79   Hang outs with friends  \n",
       "112  Hang outs with friends  \n",
       "132  Hang outs with friends  \n",
       "154  Hang outs with friends  \n",
       "160               Birthdays  "
      ]
     },
     "execution_count": 553,
     "metadata": {},
     "output_type": "execute_result"
    }
   ],
   "source": [
    "# Интересная категория людей - не любят пабы, но посещают их и тратят деньги !\n",
    "armenian_pubs[armenian_pubs['Fav_Pub'] == \"i don't like pubs\"]"
   ]
  },
  {
   "cell_type": "code",
   "execution_count": 554,
   "metadata": {},
   "outputs": [
    {
     "data": {
      "text/plain": [
       "array(['station', 'calumet', 'liberty', 'irish', \"i don't like pubs\",\n",
       "       'venue', 'void', 'das', 'pub 37', 'cantaloupe', 'EMPTY FIELD',\n",
       "       'tom collins', 'bulldog', 'pepper', 'eden', 'hemingway',\n",
       "       'no favorite', 'red bull', 'varonna', 'barcode', 'paparazzi',\n",
       "       'pechenu bagher', 'dargett', 'pub 007', 'kaptyorka', 'paulaner',\n",
       "       'wild west', \"bob's\", 'fiction', 'beatles', 'ulixanyan art club',\n",
       "       'simona', 'speak easy', 'beer academy', 'yankee'], dtype=object)"
      ]
     },
     "execution_count": 554,
     "metadata": {},
     "output_type": "execute_result"
    }
   ],
   "source": [
    "# приведем к одному варианту пабы, которые скорее всего являются одним заведением\n",
    "# для датасета побольше можно было бы считать расстояние левенштейна и мб еще что-то, но здесь проще сделать руками\n",
    "armenian_pubs.Fav_Pub = armenian_pubs.Fav_Pub.replace('37 pub', \"pub 37\")\n",
    "armenian_pubs.Fav_Pub = armenian_pubs.Fav_Pub.replace('the beatles', \"beatles\")\n",
    "armenian_pubs['Fav_Pub'].unique()"
   ]
  },
  {
   "cell_type": "code",
   "execution_count": 555,
   "metadata": {},
   "outputs": [
    {
     "data": {
      "text/plain": [
       "35"
      ]
     },
     "execution_count": 555,
     "metadata": {},
     "output_type": "execute_result"
    }
   ],
   "source": [
    "armenian_pubs['Fav_Pub'].unique().size"
   ]
  },
  {
   "cell_type": "code",
   "execution_count": 556,
   "metadata": {},
   "outputs": [
    {
     "data": {
      "text/html": [
       "<div>\n",
       "<style scoped>\n",
       "    .dataframe tbody tr th:only-of-type {\n",
       "        vertical-align: middle;\n",
       "    }\n",
       "\n",
       "    .dataframe tbody tr th {\n",
       "        vertical-align: top;\n",
       "    }\n",
       "\n",
       "    .dataframe thead th {\n",
       "        text-align: right;\n",
       "    }\n",
       "</style>\n",
       "<table border=\"1\" class=\"dataframe\">\n",
       "  <thead>\n",
       "    <tr style=\"text-align: right;\">\n",
       "      <th></th>\n",
       "      <th>Timestamp</th>\n",
       "      <th>Age</th>\n",
       "      <th>Gender</th>\n",
       "      <th>Income</th>\n",
       "      <th>Occupation</th>\n",
       "      <th>Fav_Pub</th>\n",
       "      <th>WTS</th>\n",
       "      <th>Freq</th>\n",
       "      <th>Prim_Imp</th>\n",
       "      <th>Sec_Imp</th>\n",
       "      <th>Stratum</th>\n",
       "      <th>Lifestyle</th>\n",
       "      <th>Occasions</th>\n",
       "    </tr>\n",
       "  </thead>\n",
       "  <tbody>\n",
       "    <tr>\n",
       "      <td>85</td>\n",
       "      <td>2017/02/26 3:22:50 AM GMT+4</td>\n",
       "      <td>19</td>\n",
       "      <td>Female</td>\n",
       "      <td>0.0</td>\n",
       "      <td>Student</td>\n",
       "      <td>paparazzi</td>\n",
       "      <td>NaN</td>\n",
       "      <td>rarely (once two week/or a month)</td>\n",
       "      <td>Environment</td>\n",
       "      <td>Music</td>\n",
       "      <td>Capital</td>\n",
       "      <td>Busy(student life, work)</td>\n",
       "      <td>Hang outs with friends</td>\n",
       "    </tr>\n",
       "    <tr>\n",
       "      <td>118</td>\n",
       "      <td>2017/02/26 8:18:38 PM GMT+4</td>\n",
       "      <td>19</td>\n",
       "      <td>Male</td>\n",
       "      <td>0.0</td>\n",
       "      <td>army</td>\n",
       "      <td>kaptyorka</td>\n",
       "      <td>NaN</td>\n",
       "      <td>rarely (once two week/or a month)</td>\n",
       "      <td>Environment</td>\n",
       "      <td>Menu</td>\n",
       "      <td>Capital</td>\n",
       "      <td>Busy(student life, work)</td>\n",
       "      <td>NaN</td>\n",
       "    </tr>\n",
       "    <tr>\n",
       "      <td>154</td>\n",
       "      <td>2017/03/02 11:26:42 AM GMT+4</td>\n",
       "      <td>20</td>\n",
       "      <td>Female</td>\n",
       "      <td>150000.0</td>\n",
       "      <td>Student</td>\n",
       "      <td>i don't like pubs</td>\n",
       "      <td>NaN</td>\n",
       "      <td>rarely (once two week/or a month)</td>\n",
       "      <td>Environment</td>\n",
       "      <td>Music</td>\n",
       "      <td>Capital</td>\n",
       "      <td>Adventure/traveling/exploring</td>\n",
       "      <td>Hang outs with friends</td>\n",
       "    </tr>\n",
       "  </tbody>\n",
       "</table>\n",
       "</div>"
      ],
      "text/plain": [
       "                        Timestamp  Age  Gender    Income Occupation  \\\n",
       "85    2017/02/26 3:22:50 AM GMT+4   19  Female       0.0    Student   \n",
       "118   2017/02/26 8:18:38 PM GMT+4   19    Male       0.0       army   \n",
       "154  2017/03/02 11:26:42 AM GMT+4   20  Female  150000.0    Student   \n",
       "\n",
       "               Fav_Pub  WTS                               Freq     Prim_Imp  \\\n",
       "85           paparazzi  NaN  rarely (once two week/or a month)  Environment   \n",
       "118          kaptyorka  NaN  rarely (once two week/or a month)  Environment   \n",
       "154  i don't like pubs  NaN  rarely (once two week/or a month)  Environment   \n",
       "\n",
       "    Sec_Imp  Stratum                      Lifestyle               Occasions  \n",
       "85    Music  Capital       Busy(student life, work)  Hang outs with friends  \n",
       "118    Menu  Capital       Busy(student life, work)                     NaN  \n",
       "154   Music  Capital  Adventure/traveling/exploring  Hang outs with friends  "
      ]
     },
     "execution_count": 556,
     "metadata": {},
     "output_type": "execute_result"
    }
   ],
   "source": [
    "armenian_pubs[armenian_pubs['WTS'].isnull()]"
   ]
  },
  {
   "cell_type": "code",
   "execution_count": 557,
   "metadata": {},
   "outputs": [],
   "source": [
    "# т.к. их всего три, выкинем их, чтобы не портили чистоту эксперимента, ведь наблюдений мало и заполнять средним опасно :)\n",
    "armenian_pubs = armenian_pubs.drop(armenian_pubs[armenian_pubs.WTS.isna()].index)\n"
   ]
  },
  {
   "cell_type": "code",
   "execution_count": 558,
   "metadata": {},
   "outputs": [
    {
     "data": {
      "text/plain": [
       "Busy(student life, work)         76\n",
       "Adventure/traveling/exploring    37\n",
       "Art                              24\n",
       "Sport                            11\n",
       "Nightlife                         8\n",
       "Rock, punk                        6\n",
       "Student                           1\n",
       "Passive                           1\n",
       "Sport, art, traveling             1\n",
       "Business, sports, dance           1\n",
       "Name: Lifestyle, dtype: int64"
      ]
     },
     "execution_count": 558,
     "metadata": {},
     "output_type": "execute_result"
    }
   ],
   "source": [
    "armenian_pubs.Lifestyle.value_counts()"
   ]
  },
  {
   "cell_type": "code",
   "execution_count": 559,
   "metadata": {},
   "outputs": [
    {
     "data": {
      "text/plain": [
       "Busy(student life, work)         76\n",
       "Adventure/traveling/exploring    37\n",
       "Art                              24\n",
       "Sport                            11\n",
       "Other                            10\n",
       "Nightlife                         8\n",
       "Rock, punk                        6\n",
       "Name: Lifestyle, dtype: int64"
      ]
     },
     "execution_count": 559,
     "metadata": {},
     "output_type": "execute_result"
    }
   ],
   "source": [
    "# заменим пустые и слишком редкие значения\n",
    "armenian_pubs.Lifestyle  = armenian_pubs.Lifestyle .fillna('Other')\n",
    "armenian_pubs.Lifestyle = armenian_pubs.Lifestyle.replace(['Student', 'Passive ','Sport, art, traveling','Business, sports, dance' ], 'Other')\n",
    "armenian_pubs.Lifestyle.value_counts()"
   ]
  },
  {
   "cell_type": "code",
   "execution_count": 560,
   "metadata": {},
   "outputs": [
    {
     "data": {
      "text/plain": [
       "Hang outs with friends        136\n",
       "Special events/parties         16\n",
       "Birthdays                      14\n",
       "Never                           2\n",
       "Nowere                          1\n",
       "chem aycelum                    1\n",
       "For listening  good music       1\n",
       "Name: Occasions, dtype: int64"
      ]
     },
     "execution_count": 560,
     "metadata": {},
     "output_type": "execute_result"
    }
   ],
   "source": [
    "armenian_pubs.Occasions.value_counts()\n"
   ]
  },
  {
   "cell_type": "code",
   "execution_count": 561,
   "metadata": {},
   "outputs": [
    {
     "data": {
      "text/html": [
       "<div>\n",
       "<style scoped>\n",
       "    .dataframe tbody tr th:only-of-type {\n",
       "        vertical-align: middle;\n",
       "    }\n",
       "\n",
       "    .dataframe tbody tr th {\n",
       "        vertical-align: top;\n",
       "    }\n",
       "\n",
       "    .dataframe thead th {\n",
       "        text-align: right;\n",
       "    }\n",
       "</style>\n",
       "<table border=\"1\" class=\"dataframe\">\n",
       "  <thead>\n",
       "    <tr style=\"text-align: right;\">\n",
       "      <th></th>\n",
       "      <th>Timestamp</th>\n",
       "      <th>Age</th>\n",
       "      <th>Gender</th>\n",
       "      <th>Income</th>\n",
       "      <th>Occupation</th>\n",
       "      <th>Fav_Pub</th>\n",
       "      <th>WTS</th>\n",
       "      <th>Freq</th>\n",
       "      <th>Prim_Imp</th>\n",
       "      <th>Sec_Imp</th>\n",
       "      <th>Stratum</th>\n",
       "      <th>Lifestyle</th>\n",
       "      <th>Occasions</th>\n",
       "    </tr>\n",
       "  </thead>\n",
       "  <tbody>\n",
       "    <tr>\n",
       "      <td>65</td>\n",
       "      <td>2017/02/26 12:32:34 AM GMT+4</td>\n",
       "      <td>18</td>\n",
       "      <td>Female</td>\n",
       "      <td>50000.0</td>\n",
       "      <td>Student</td>\n",
       "      <td>no favorite</td>\n",
       "      <td>0.0</td>\n",
       "      <td>rarely (once two week/or a month)</td>\n",
       "      <td>Environment</td>\n",
       "      <td>Music</td>\n",
       "      <td>Capital</td>\n",
       "      <td>Art</td>\n",
       "      <td>Never</td>\n",
       "    </tr>\n",
       "    <tr>\n",
       "      <td>67</td>\n",
       "      <td>2017/02/26 12:38:48 AM GMT+4</td>\n",
       "      <td>21</td>\n",
       "      <td>Male</td>\n",
       "      <td>200000.0</td>\n",
       "      <td>Student + working</td>\n",
       "      <td>i don't like pubs</td>\n",
       "      <td>0.0</td>\n",
       "      <td>rarely (once two week/or a month)</td>\n",
       "      <td>Environment</td>\n",
       "      <td>Music</td>\n",
       "      <td>Urban</td>\n",
       "      <td>Busy(student life, work)</td>\n",
       "      <td>Never</td>\n",
       "    </tr>\n",
       "  </tbody>\n",
       "</table>\n",
       "</div>"
      ],
      "text/plain": [
       "                       Timestamp  Age  Gender    Income         Occupation  \\\n",
       "65  2017/02/26 12:32:34 AM GMT+4   18  Female   50000.0            Student   \n",
       "67  2017/02/26 12:38:48 AM GMT+4   21    Male  200000.0  Student + working   \n",
       "\n",
       "              Fav_Pub  WTS                               Freq     Prim_Imp  \\\n",
       "65        no favorite  0.0  rarely (once two week/or a month)  Environment   \n",
       "67  i don't like pubs  0.0  rarely (once two week/or a month)  Environment   \n",
       "\n",
       "   Sec_Imp  Stratum                 Lifestyle Occasions  \n",
       "65   Music  Capital                       Art     Never  \n",
       "67   Music    Urban  Busy(student life, work)     Never  "
      ]
     },
     "execution_count": 561,
     "metadata": {},
     "output_type": "execute_result"
    }
   ],
   "source": [
    "armenian_pubs[(armenian_pubs['Occasions'] == 'Never')]"
   ]
  },
  {
   "cell_type": "code",
   "execution_count": 562,
   "metadata": {},
   "outputs": [
    {
     "data": {
      "text/html": [
       "<div>\n",
       "<style scoped>\n",
       "    .dataframe tbody tr th:only-of-type {\n",
       "        vertical-align: middle;\n",
       "    }\n",
       "\n",
       "    .dataframe tbody tr th {\n",
       "        vertical-align: top;\n",
       "    }\n",
       "\n",
       "    .dataframe thead th {\n",
       "        text-align: right;\n",
       "    }\n",
       "</style>\n",
       "<table border=\"1\" class=\"dataframe\">\n",
       "  <thead>\n",
       "    <tr style=\"text-align: right;\">\n",
       "      <th></th>\n",
       "      <th>Timestamp</th>\n",
       "      <th>Age</th>\n",
       "      <th>Gender</th>\n",
       "      <th>Income</th>\n",
       "      <th>Occupation</th>\n",
       "      <th>Fav_Pub</th>\n",
       "      <th>WTS</th>\n",
       "      <th>Freq</th>\n",
       "      <th>Prim_Imp</th>\n",
       "      <th>Sec_Imp</th>\n",
       "      <th>Stratum</th>\n",
       "      <th>Lifestyle</th>\n",
       "      <th>Occasions</th>\n",
       "    </tr>\n",
       "  </thead>\n",
       "  <tbody>\n",
       "    <tr>\n",
       "      <td>77</td>\n",
       "      <td>2017/02/26 1:33:20 AM GMT+4</td>\n",
       "      <td>18</td>\n",
       "      <td>Female</td>\n",
       "      <td>270000.0</td>\n",
       "      <td>Student</td>\n",
       "      <td>i don't like pubs</td>\n",
       "      <td>0.0</td>\n",
       "      <td>rarely (once two week/or a month)</td>\n",
       "      <td>Environment</td>\n",
       "      <td>Pricing</td>\n",
       "      <td>Urban</td>\n",
       "      <td>Busy(student life, work)</td>\n",
       "      <td>Nowere</td>\n",
       "    </tr>\n",
       "  </tbody>\n",
       "</table>\n",
       "</div>"
      ],
      "text/plain": [
       "                      Timestamp  Age  Gender    Income Occupation  \\\n",
       "77  2017/02/26 1:33:20 AM GMT+4   18  Female  270000.0    Student   \n",
       "\n",
       "              Fav_Pub  WTS                               Freq     Prim_Imp  \\\n",
       "77  i don't like pubs  0.0  rarely (once two week/or a month)  Environment   \n",
       "\n",
       "    Sec_Imp Stratum                 Lifestyle Occasions  \n",
       "77  Pricing   Urban  Busy(student life, work)    Nowere  "
      ]
     },
     "execution_count": 562,
     "metadata": {},
     "output_type": "execute_result"
    }
   ],
   "source": [
    "armenian_pubs[(armenian_pubs['Occasions'] == 'Nowere')]"
   ]
  },
  {
   "cell_type": "code",
   "execution_count": 563,
   "metadata": {},
   "outputs": [],
   "source": [
    "# так как эти люди не ходят в пабы, не любят их и не тратят там деньги => они нам не интересны и можно их выкинуть\n",
    "# можно было выкинуть красиво, но раз их немного и я уже их вывела, выкину просто по индексам\n",
    "armenian_pubs = armenian_pubs.drop([65,67,77])"
   ]
  },
  {
   "cell_type": "code",
   "execution_count": 564,
   "metadata": {},
   "outputs": [],
   "source": [
    "armenian_pubs.Occasions = armenian_pubs.Occasions.replace(['chem aycelum','For listening  good music '], 'Other')\n",
    "armenian_pubs.Occasions = armenian_pubs.Occasions.fillna('Other')"
   ]
  },
  {
   "cell_type": "code",
   "execution_count": 565,
   "metadata": {},
   "outputs": [],
   "source": [
    "# вряд ли дата наблюдения нам пригодится\n",
    "armenian_pubs = armenian_pubs.drop(columns = 'Timestamp')\n"
   ]
  },
  {
   "cell_type": "code",
   "execution_count": 566,
   "metadata": {},
   "outputs": [
    {
     "name": "stdout",
     "output_type": "stream",
     "text": [
      "<class 'pandas.core.frame.DataFrame'>\n",
      "Int64Index: 169 entries, 0 to 174\n",
      "Data columns (total 12 columns):\n",
      "Age           169 non-null int64\n",
      "Gender        169 non-null object\n",
      "Income        169 non-null float64\n",
      "Occupation    169 non-null object\n",
      "Fav_Pub       169 non-null object\n",
      "WTS           169 non-null float64\n",
      "Freq          169 non-null object\n",
      "Prim_Imp      169 non-null object\n",
      "Sec_Imp       169 non-null object\n",
      "Stratum       169 non-null object\n",
      "Lifestyle     169 non-null object\n",
      "Occasions     169 non-null object\n",
      "dtypes: float64(2), int64(1), object(9)\n",
      "memory usage: 17.2+ KB\n"
     ]
    }
   ],
   "source": [
    "armenian_pubs.info()"
   ]
  },
  {
   "cell_type": "markdown",
   "metadata": {},
   "source": [
    "# Узнаем побольше о тех, кто проходил опрос"
   ]
  },
  {
   "cell_type": "code",
   "execution_count": 567,
   "metadata": {},
   "outputs": [
    {
     "data": {
      "text/plain": [
       "18    47\n",
       "19    46\n",
       "20    30\n",
       "21    19\n",
       "17    10\n",
       "23     5\n",
       "22     4\n",
       "26     2\n",
       "25     2\n",
       "16     2\n",
       "41     1\n",
       "39     1\n",
       "Name: Age, dtype: int64"
      ]
     },
     "execution_count": 567,
     "metadata": {},
     "output_type": "execute_result"
    }
   ],
   "source": [
    "# основная возрастная группа - 17-21 год (90%)\n",
    "armenian_pubs.Age.value_counts()"
   ]
  },
  {
   "cell_type": "code",
   "execution_count": 568,
   "metadata": {},
   "outputs": [
    {
     "data": {
      "text/plain": [
       "Female    0.579882\n",
       "Male      0.420118\n",
       "Name: Gender, dtype: float64"
      ]
     },
     "execution_count": 568,
     "metadata": {},
     "output_type": "execute_result"
    }
   ],
   "source": [
    "# 42% женщин и 58% мужчин\n",
    "armenian_pubs.Gender.value_counts(normalize=True, sort=True,)"
   ]
  },
  {
   "cell_type": "code",
   "execution_count": 569,
   "metadata": {},
   "outputs": [
    {
     "data": {
      "text/plain": [
       "0.2485207100591716"
      ]
     },
     "execution_count": 569,
     "metadata": {},
     "output_type": "execute_result"
    }
   ],
   "source": [
    "# 25% не имеют дохода\n",
    "armenian_pubs[armenian_pubs.Income == 0]['Income'].count()/len(armenian_pubs)"
   ]
  },
  {
   "cell_type": "code",
   "execution_count": 570,
   "metadata": {},
   "outputs": [
    {
     "data": {
      "text/plain": [
       "Capital    0.798817\n",
       "Urban      0.183432\n",
       "Rural      0.017751\n",
       "Name: Stratum, dtype: float64"
      ]
     },
     "execution_count": 570,
     "metadata": {},
     "output_type": "execute_result"
    }
   ],
   "source": [
    "# 80% из столицы \n",
    "armenian_pubs.Stratum.value_counts(normalize=True, sort=True,)"
   ]
  },
  {
   "cell_type": "code",
   "execution_count": 571,
   "metadata": {},
   "outputs": [
    {
     "data": {
      "text/plain": [
       "rarely (once two week/or a month)    0.520710\n",
       "Several times in a month             0.360947\n",
       "Several times a week                 0.118343\n",
       "Name: Freq, dtype: float64"
      ]
     },
     "execution_count": 571,
     "metadata": {},
     "output_type": "execute_result"
    }
   ],
   "source": [
    "#  once two week/month 52% , several times per month 36%\n",
    "armenian_pubs.Freq.value_counts(normalize=True, sort=True,)"
   ]
  },
  {
   "cell_type": "code",
   "execution_count": 572,
   "metadata": {},
   "outputs": [
    {
     "data": {
      "text/plain": [
       "Busy(student life, work)         0.437870\n",
       "Adventure/traveling/exploring    0.218935\n",
       "Art                              0.136095\n",
       "Sport                            0.065089\n",
       "Other                            0.059172\n",
       "Nightlife                        0.047337\n",
       "Rock, punk                       0.035503\n",
       "Name: Lifestyle, dtype: float64"
      ]
     },
     "execution_count": 572,
     "metadata": {},
     "output_type": "execute_result"
    }
   ],
   "source": [
    "# большинство заняты учебой и работой 43%\n",
    "armenian_pubs.Lifestyle.value_counts(normalize=True, sort=True,)"
   ]
  },
  {
   "cell_type": "code",
   "execution_count": 573,
   "metadata": {},
   "outputs": [
    {
     "data": {
      "text/plain": [
       "Hang outs with friends    0.804734\n",
       "Special events/parties    0.094675\n",
       "Birthdays                 0.082840\n",
       "Other                     0.017751\n",
       "Name: Occasions, dtype: float64"
      ]
     },
     "execution_count": 573,
     "metadata": {},
     "output_type": "execute_result"
    }
   ],
   "source": [
    "# 80% посещают пабы с друзьями\n",
    "armenian_pubs.Occasions.value_counts(normalize=True, sort=True,)"
   ]
  },
  {
   "cell_type": "code",
   "execution_count": 574,
   "metadata": {},
   "outputs": [],
   "source": [
    "# нарисуем теперь это все \n",
    "def info_plot(df, col): \n",
    "    counts = df[col].value_counts(normalize=True, sort=True, ascending=True)\n",
    "    counts.plot(kind='barh')\n",
    "    for index, value in enumerate(counts):\n",
    "        plt.text(value, index, str(round(value*100,1))+'%')\n",
    "        plt.title('Распределение пользователей по '+ col)\n",
    "        plt.xlabel('Доля респондентов')\n",
    "    plt.show()"
   ]
  },
  {
   "cell_type": "code",
   "execution_count": 575,
   "metadata": {
    "scrolled": false
   },
   "outputs": [
    {
     "data": {
      "image/png": "[encoded data removed]",
      "text/plain": [
       "<Figure size 1080x720 with 1 Axes>"
      ]
     },
     "metadata": {
      "needs_background": "light"
     },
     "output_type": "display_data"
    },
    {
     "data": {
      "image/png": "[encoded data removed]",
      "text/plain": [
       "<Figure size 1080x720 with 1 Axes>"
      ]
     },
     "metadata": {
      "needs_background": "light"
     },
     "output_type": "display_data"
    },
    {
     "data": {
      "image/png": "[encoded data removed]",
      "text/plain": [
       "<Figure size 1080x720 with 1 Axes>"
      ]
     },
     "metadata": {
      "needs_background": "light"
     },
     "output_type": "display_data"
    },
    {
     "data": {
      "image/png": "[encoded data removed]",
      "text/plain": [
       "<Figure size 1080x720 with 1 Axes>"
      ]
     },
     "metadata": {
      "needs_background": "light"
     },
     "output_type": "display_data"
    },
    {
     "data": {
      "image/png": "[encoded data removed]",
      "text/plain": [
       "<Figure size 1080x720 with 1 Axes>"
      ]
     },
     "metadata": {
      "needs_background": "light"
     },
     "output_type": "display_data"
    },
    {
     "data": {
      "image/png": "[encoded data removed]",
      "text/plain": [
       "<Figure size 1080x720 with 1 Axes>"
      ]
     },
     "metadata": {
      "needs_background": "light"
     },
     "output_type": "display_data"
    },
    {
     "data": {
      "image/png": "[encoded data removed]",
      "text/plain": [
       "<Figure size 1080x720 with 1 Axes>"
      ]
     },
     "metadata": {
      "needs_background": "light"
     },
     "output_type": "display_data"
    },
    {
     "data": {
      "image/png": "[encoded data removed]",
      "text/plain": [
       "<Figure size 1080x720 with 1 Axes>"
      ]
     },
     "metadata": {
      "needs_background": "light"
     },
     "output_type": "display_data"
    }
   ],
   "source": [
    "сols = ['Age', 'Gender',  'Occupation', 'Fav_Pub', 'Freq',\n",
    "        'Stratum', 'Lifestyle', 'Occasions']\n",
    "for col in сols:\n",
    "    info_plot(armenian_pubs, col)\n",
    "    "
   ]
  },
  {
   "cell_type": "markdown",
   "metadata": {},
   "source": [
    "Посмотрим на некоторые признаки повнимательней.\n",
    "\n",
    "# Income"
   ]
  },
  {
   "cell_type": "code",
   "execution_count": 576,
   "metadata": {},
   "outputs": [
    {
     "data": {
      "text/plain": [
       "(0.0, 4500000.0, 109896.5976331361)"
      ]
     },
     "execution_count": 576,
     "metadata": {},
     "output_type": "execute_result"
    }
   ],
   "source": [
    "# видим очень большое отличие максимума от среднего => \n",
    "# стоит посмотреть повнимательнее как распределены доходы (можно посмотреть персентили)\n",
    "\n",
    "armenian_pubs.Income.min(),armenian_pubs.Income.max(),armenian_pubs.Income.mean()"
   ]
  },
  {
   "cell_type": "code",
   "execution_count": 578,
   "metadata": {},
   "outputs": [
    {
     "data": {
      "image/png": "[encoded data removed]",
      "text/plain": [
       "<Figure size 1080x720 with 1 Axes>"
      ]
     },
     "metadata": {
      "needs_background": "light"
     },
     "output_type": "display_data"
    }
   ],
   "source": [
    "perc = [np.percentile(armenian_pubs.Income,k) for k in range(5,100,5)]\n",
    "plt.bar(range(5,100,5),perc )\n",
    "plt.title('Распределение дохода')\n",
    "plt.xlabel('Персентиль')\n",
    "plt.ylabel('Доход')\n",
    "plt.show()\n"
   ]
  },
  {
   "cell_type": "code",
   "execution_count": 579,
   "metadata": {},
   "outputs": [
    {
     "data": {
      "image/png": "[encoded data removed]",
      "text/plain": [
       "<Figure size 1080x720 with 1 Axes>"
      ]
     },
     "metadata": {
      "needs_background": "light"
     },
     "output_type": "display_data"
    }
   ],
   "source": [
    "perc = [np.percentile(armenian_pubs.Income,k) for k in range(5,101,5)]\n",
    "plt.bar(range(5,101,5),perc )\n",
    "plt.title('Распределение дохода')\n",
    "plt.xlabel('Персентиль')\n",
    "plt.ylabel('Доход')\n",
    "plt.show()\n",
    "# видим явный выброс"
   ]
  },
  {
   "cell_type": "code",
   "execution_count": 580,
   "metadata": {},
   "outputs": [
    {
     "data": {
      "image/png": "[encoded data removed]",
      "text/plain": [
       "<Figure size 1080x720 with 1 Axes>"
      ]
     },
     "metadata": {
      "needs_background": "light"
     },
     "output_type": "display_data"
    }
   ],
   "source": [
    "#распределение по доходу\n",
    "plt.hist(armenian_pubs.Income,bins = range(0, 250000,25000))\n",
    "plt.title('Распределение по доходу')\n",
    "plt.xlabel('Доход')\n",
    "plt.ylabel('Количество')\n",
    "plt.show()"
   ]
  },
  {
   "cell_type": "markdown",
   "metadata": {},
   "source": [
    "# Посмотрим на показатель WTS - сколько респондент готов потратить в пабе"
   ]
  },
  {
   "cell_type": "code",
   "execution_count": 581,
   "metadata": {},
   "outputs": [
    {
     "data": {
      "text/plain": [
       "(0.0, 30000.0, 4917.15976331361)"
      ]
     },
     "execution_count": 581,
     "metadata": {},
     "output_type": "execute_result"
    }
   ],
   "source": [
    "armenian_pubs.WTS.min(),armenian_pubs.WTS.max(),armenian_pubs.WTS.mean()"
   ]
  },
  {
   "cell_type": "code",
   "execution_count": 582,
   "metadata": {},
   "outputs": [
    {
     "data": {
      "image/png": "[encoded data removed]",
      "text/plain": [
       "<Figure size 1080x720 with 1 Axes>"
      ]
     },
     "metadata": {
      "needs_background": "light"
     },
     "output_type": "display_data"
    }
   ],
   "source": [
    "perc2 = [np.percentile(armenian_pubs.WTS,k) for k in range(5,101,5)]\n",
    "plt.bar(range(5,101,5),perc2 )\n",
    "plt.title('Распределение максимальных затрат')\n",
    "plt.xlabel('Персентиль')\n",
    "plt.ylabel('Максимально возможные затраты')\n",
    "plt.show()\n"
   ]
  },
  {
   "cell_type": "code",
   "execution_count": 583,
   "metadata": {},
   "outputs": [
    {
     "data": {
      "image/png": "[encoded data removed]",
      "text/plain": [
       "<Figure size 1080x720 with 1 Axes>"
      ]
     },
     "metadata": {
      "needs_background": "light"
     },
     "output_type": "display_data"
    }
   ],
   "source": [
    "#распределение по сумме, которую готовы потратить в пабе\n",
    "plt.hist(armenian_pubs.WTS,bins = range(0,30000,2000))\n",
    "plt.title('Распределение максимальных затрат')\n",
    "plt.xlabel('Максимально возможные затраты')\n",
    "plt.ylabel('Количество')\n",
    "plt.show()"
   ]
  },
  {
   "cell_type": "markdown",
   "metadata": {},
   "source": [
    "# В каких случаях тратят больше ?\n",
    "\n",
    "Хотим понять, тратят ли при разных обстоятельствах разное количество денег чтобы, например, проводить акции (скидка именинникам, скидка большой компании итд)\n",
    "\n",
    "Гипотеза H0 - траты не зависят от случая\n",
    "\n",
    "Гипотеза H1 - в каких то случаях тратят больше\n",
    "\n"
   ]
  },
  {
   "cell_type": "code",
   "execution_count": 584,
   "metadata": {},
   "outputs": [
    {
     "name": "stdout",
     "output_type": "stream",
     "text": [
      "Occasion: Hang outs with friends\n",
      "count      136.000000\n",
      "mean      4926.470588\n",
      "std       4515.212727\n",
      "min          0.000000\n",
      "25%       2000.000000\n",
      "50%       4000.000000\n",
      "75%       5000.000000\n",
      "max      30000.000000\n",
      "Name: WTS, dtype: float64 \n",
      "\n",
      "Occasion: Special events/parties\n",
      "count       16.000000\n",
      "mean      3625.000000\n",
      "std       2269.361144\n",
      "min       1000.000000\n",
      "25%       2000.000000\n",
      "50%       3250.000000\n",
      "75%       5000.000000\n",
      "max      10000.000000\n",
      "Name: WTS, dtype: float64 \n",
      "\n",
      "Occasion: Birthdays\n",
      "count       14.000000\n",
      "mean      6785.714286\n",
      "std       3964.817804\n",
      "min       2000.000000\n",
      "25%       3250.000000\n",
      "50%       7000.000000\n",
      "75%      10000.000000\n",
      "max      15000.000000\n",
      "Name: WTS, dtype: float64 \n",
      "\n",
      "Occasion: Other\n",
      "count       3.000000\n",
      "mean     2666.666667\n",
      "std       763.762616\n",
      "min      2000.000000\n",
      "25%      2250.000000\n",
      "50%      2500.000000\n",
      "75%      3000.000000\n",
      "max      3500.000000\n",
      "Name: WTS, dtype: float64 \n",
      "\n"
     ]
    },
    {
     "data": {
      "image/png": "[encoded data removed]",
      "text/plain": [
       "<Figure size 1080x720 with 1 Axes>"
      ]
     },
     "metadata": {
      "needs_background": "light"
     },
     "output_type": "display_data"
    }
   ],
   "source": [
    "for i in armenian_pubs.Occasions.unique():\n",
    "    plt.hist(armenian_pubs[armenian_pubs.Occasions == i].WTS, bins = range(0,30000,2000), label = i)\n",
    "    print('Occasion: ' + i)\n",
    "    print(armenian_pubs[armenian_pubs.Occasions == i].WTS.describe(),'\\n')\n",
    "    plt.title('WTS for occasion')\n",
    "    plt.xlabel('WTS')\n",
    "    plt.legend()\n",
    "plt.show()\n",
    "# на самом деле не очень наглядно, потому что одна выборка сильно больше других, но можем сравнить смещение синей и зеленой"
   ]
  },
  {
   "cell_type": "code",
   "execution_count": 585,
   "metadata": {},
   "outputs": [
    {
     "name": "stdout",
     "output_type": "stream",
     "text": [
      "Occasion: Hang outs with friends\n",
      "count      136.000000\n",
      "mean      4926.470588\n",
      "std       4515.212727\n",
      "min          0.000000\n",
      "25%       2000.000000\n",
      "50%       4000.000000\n",
      "75%       5000.000000\n",
      "max      30000.000000\n",
      "Name: WTS, dtype: float64 \n",
      "\n"
     ]
    },
    {
     "data": {
      "image/png": "[encoded data removed]",
      "text/plain": [
       "<Figure size 1080x720 with 1 Axes>"
      ]
     },
     "metadata": {
      "needs_background": "light"
     },
     "output_type": "display_data"
    },
    {
     "name": "stdout",
     "output_type": "stream",
     "text": [
      "Occasion: Birthdays\n",
      "count       14.000000\n",
      "mean      6785.714286\n",
      "std       3964.817804\n",
      "min       2000.000000\n",
      "25%       3250.000000\n",
      "50%       7000.000000\n",
      "75%      10000.000000\n",
      "max      15000.000000\n",
      "Name: WTS, dtype: float64 \n",
      "\n"
     ]
    },
    {
     "data": {
      "image/png": "[encoded data removed]",
      "text/plain": [
       "<Figure size 1080x720 with 1 Axes>"
      ]
     },
     "metadata": {
      "needs_background": "light"
     },
     "output_type": "display_data"
    }
   ],
   "source": [
    "# интересное наблюдение - эти два распределения немного похожи на лог нормальные :)\n",
    "for i in ['Hang outs with friends', 'Birthdays']:\n",
    "    plt.hist(armenian_pubs[armenian_pubs.Occasions == i].WTS, bins = range(0,30000,1000), label = i)\n",
    "    print('Occasion: ' + i)\n",
    "    print(armenian_pubs[armenian_pubs.Occasions == i].WTS.describe(),'\\n')\n",
    "    plt.title('WTS for occasion')\n",
    "    plt.xlabel('WTS')\n",
    "    plt.legend()\n",
    "    plt.show()"
   ]
  },
  {
   "cell_type": "code",
   "execution_count": 586,
   "metadata": {},
   "outputs": [
    {
     "data": {
      "image/png": "[encoded data removed]",
      "text/plain": [
       "<Figure size 1080x720 with 1 Axes>"
      ]
     },
     "metadata": {
      "needs_background": "light"
     },
     "output_type": "display_data"
    }
   ],
   "source": [
    "sns.boxplot(x='Occasions', y='WTS', data=armenian_pubs)\n",
    "plt.show()"
   ]
  },
  {
   "cell_type": "code",
   "execution_count": 587,
   "metadata": {},
   "outputs": [
    {
     "name": "stdout",
     "output_type": "stream",
     "text": [
      "Hang outs with friends Statistics=0.680, p=0.000\n",
      "Sample does not look Gaussian\n",
      "Birthdays Statistics=0.915, p=0.184\n",
      "Sample looks Gaussian\n",
      "Special events/parties Statistics=0.857, p=0.017\n",
      "Sample does not look Gaussian\n"
     ]
    }
   ],
   "source": [
    "# Shapiro-Wilk Test\n",
    "# посмотрим нормально ли распределены данные\n",
    "from numpy.random import seed\n",
    "from numpy.random import randn\n",
    "from scipy.stats import shapiro\n",
    "group = {}\n",
    "for oc in ['Hang outs with friends','Birthdays','Special events/parties']:\n",
    "    group[oc] =  np.asarray(armenian_pubs[armenian_pubs.Occasions == oc].WTS)\n",
    "for oc in group:\n",
    "    stat, p = shapiro(group[oc])\n",
    "    print(oc, 'Statistics=%.3f, p=%.3f' % (stat, p))\n",
    "    alpha = 0.05\n",
    "    if p > alpha:\n",
    "        print('Sample looks Gaussian')\n",
    "    else:\n",
    "        print('Sample does not look Gaussian')"
   ]
  },
  {
   "cell_type": "code",
   "execution_count": 588,
   "metadata": {},
   "outputs": [
    {
     "name": "stdout",
     "output_type": "stream",
     "text": [
      "Statistics=-3.727, p=0.000\n",
      "Hang outs with friends and Birthdays Different distributions (reject H0)\n"
     ]
    }
   ],
   "source": [
    "# на нормальных выборках т-тест работает лучше, однако сложно найти что-то полностью подходящее для выборки, поэтому попробуем его\n",
    "# Student's t-test\n",
    "from numpy.random import seed\n",
    "from numpy.random import randn\n",
    "from scipy.stats import ttest_ind\n",
    "\n",
    "# уберем выбросы\n",
    "a = group['Hang outs with friends'][group['Hang outs with friends']<15000]\n",
    "oc1, oc2 = 'Hang outs with friends','Birthdays'\n",
    "# compare samples\n",
    "stat, p = ttest_ind(a,group[oc2] )\n",
    "print('Statistics=%.3f, p=%.3f' % (stat, p))\n",
    "# поделим на 3 так как попарная проверка гипотез и может копиться ошибка\n",
    "alpha = 0.05/3\n",
    "if p > alpha:\n",
    "    print(oc1,'and', oc2,'Same distributions (fail to reject H0)')\n",
    "else:\n",
    "    print(oc1,'and', oc2,'Different distributions (reject H0)')"
   ]
  },
  {
   "cell_type": "code",
   "execution_count": 589,
   "metadata": {},
   "outputs": [
    {
     "name": "stdout",
     "output_type": "stream",
     "text": [
      "Statistics=0.701, p=0.484\n",
      "Hang outs with friends and Special events/parties Same distributions (fail to reject H0)\n"
     ]
    }
   ],
   "source": [
    "# Student's t-test\n",
    "from numpy.random import seed\n",
    "from numpy.random import randn\n",
    "from scipy.stats import ttest_ind\n",
    "oc1, oc2 = 'Hang outs with friends','Special events/parties'\n",
    "# compare samples\n",
    "stat, p = ttest_ind(a,group[oc2] )\n",
    "print('Statistics=%.3f, p=%.3f' % (stat, p))\n",
    "\n",
    "alpha = 0.05/3\n",
    "if p > alpha:\n",
    "    print(oc1,'and', oc2,'Same distributions (fail to reject H0)')\n",
    "else:\n",
    "    print(oc1,'and', oc2,'Different distributions (reject H0)')"
   ]
  },
  {
   "cell_type": "code",
   "execution_count": 590,
   "metadata": {},
   "outputs": [
    {
     "name": "stdout",
     "output_type": "stream",
     "text": [
      "Statistics=2.723, p=0.011\n",
      "Birthdays and Special events/parties Different distributions (reject H0)\n"
     ]
    }
   ],
   "source": [
    "# Student's t-test\n",
    "from numpy.random import seed\n",
    "from numpy.random import randn\n",
    "from scipy.stats import ttest_ind\n",
    "oc1, oc2 = 'Birthdays','Special events/parties'\n",
    "# compare samples\n",
    "stat, p = ttest_ind(group[oc1],group[oc2] )\n",
    "print('Statistics=%.3f, p=%.3f' % (stat, p))\n",
    "\n",
    "alpha = 0.05/3\n",
    "if p > alpha:\n",
    "    print(oc1,'and', oc2,'Same distributions (fail to reject H0)')\n",
    "else:\n",
    "    print(oc1,'and', oc2,'Different distributions (reject H0)')"
   ]
  },
  {
   "cell_type": "code",
   "execution_count": 591,
   "metadata": {},
   "outputs": [
    {
     "name": "stdout",
     "output_type": "stream",
     "text": [
      "0.031061157919619317 Different distributions (reject H0)\n"
     ]
    }
   ],
   "source": [
    "# Применение критерия Крускала-Уаллиса, он может быть полезен т.к. у нас не нормальное распределение и 3 группы\n",
    "from scipy.stats.mstats import kruskalwallis\n",
    "a = group['Hang outs with friends'][group['Hang outs with friends']<15000]\n",
    "oc1, oc2 = 'Birthdays','Special events/parties'\n",
    "h, p = kruskalwallis(a,group[oc1],group[oc2])\n",
    "alpha = 0.05\n",
    "if p > alpha:\n",
    "    print(p,'Same distributions (fail to reject H0)')\n",
    "else:\n",
    "    print(p,'Different distributions (reject H0)')"
   ]
  },
  {
   "cell_type": "markdown",
   "metadata": {},
   "source": [
    "теперь можем сделать вывод, что на день рождения тратят больше денег и нужно зазывать именинников !"
   ]
  },
  {
   "cell_type": "markdown",
   "metadata": {},
   "source": [
    "# Есть ли зависимость между доходом респондента и тем, сколько денег он готов потратить?"
   ]
  },
  {
   "cell_type": "code",
   "execution_count": 592,
   "metadata": {},
   "outputs": [
    {
     "data": {
      "image/png": "[encoded data removed]",
      "text/plain": [
       "<Figure size 1080x720 with 1 Axes>"
      ]
     },
     "metadata": {
      "needs_background": "light"
     },
     "output_type": "display_data"
    }
   ],
   "source": [
    "plt.scatter(armenian_pubs.Income,armenian_pubs.WTS)\n",
    "plt.show()"
   ]
  },
  {
   "cell_type": "code",
   "execution_count": 593,
   "metadata": {},
   "outputs": [
    {
     "data": {
      "image/png": "[encoded data removed]",
      "text/plain": [
       "<Figure size 1080x720 with 1 Axes>"
      ]
     },
     "metadata": {
      "needs_background": "light"
     },
     "output_type": "display_data"
    }
   ],
   "source": [
    "plt.scatter(armenian_pubs[armenian_pubs.Income<500000].Income,armenian_pubs[armenian_pubs.Income<500000].WTS)\n",
    "plt.ylabel('WTS')\n",
    "plt.xlabel('Income')\n",
    "plt.show()"
   ]
  },
  {
   "cell_type": "code",
   "execution_count": 594,
   "metadata": {},
   "outputs": [
    {
     "data": {
      "text/html": [
       "<div>\n",
       "<style scoped>\n",
       "    .dataframe tbody tr th:only-of-type {\n",
       "        vertical-align: middle;\n",
       "    }\n",
       "\n",
       "    .dataframe tbody tr th {\n",
       "        vertical-align: top;\n",
       "    }\n",
       "\n",
       "    .dataframe thead th {\n",
       "        text-align: right;\n",
       "    }\n",
       "</style>\n",
       "<table border=\"1\" class=\"dataframe\">\n",
       "  <thead>\n",
       "    <tr style=\"text-align: right;\">\n",
       "      <th></th>\n",
       "      <th>Age</th>\n",
       "      <th>Income</th>\n",
       "      <th>WTS</th>\n",
       "    </tr>\n",
       "  </thead>\n",
       "  <tbody>\n",
       "    <tr>\n",
       "      <td>Age</td>\n",
       "      <td>1.000000</td>\n",
       "      <td>0.163551</td>\n",
       "      <td>0.131985</td>\n",
       "    </tr>\n",
       "    <tr>\n",
       "      <td>Income</td>\n",
       "      <td>0.163551</td>\n",
       "      <td>1.000000</td>\n",
       "      <td>0.234788</td>\n",
       "    </tr>\n",
       "    <tr>\n",
       "      <td>WTS</td>\n",
       "      <td>0.131985</td>\n",
       "      <td>0.234788</td>\n",
       "      <td>1.000000</td>\n",
       "    </tr>\n",
       "  </tbody>\n",
       "</table>\n",
       "</div>"
      ],
      "text/plain": [
       "             Age    Income       WTS\n",
       "Age     1.000000  0.163551  0.131985\n",
       "Income  0.163551  1.000000  0.234788\n",
       "WTS     0.131985  0.234788  1.000000"
      ]
     },
     "execution_count": 594,
     "metadata": {},
     "output_type": "execute_result"
    }
   ],
   "source": [
    "#Корреляция Пирсона\n",
    "armenian_pubs.corr()"
   ]
  },
  {
   "cell_type": "code",
   "execution_count": 595,
   "metadata": {},
   "outputs": [
    {
     "data": {
      "text/html": [
       "<div>\n",
       "<style scoped>\n",
       "    .dataframe tbody tr th:only-of-type {\n",
       "        vertical-align: middle;\n",
       "    }\n",
       "\n",
       "    .dataframe tbody tr th {\n",
       "        vertical-align: top;\n",
       "    }\n",
       "\n",
       "    .dataframe thead th {\n",
       "        text-align: right;\n",
       "    }\n",
       "</style>\n",
       "<table border=\"1\" class=\"dataframe\">\n",
       "  <thead>\n",
       "    <tr style=\"text-align: right;\">\n",
       "      <th></th>\n",
       "      <th>Age</th>\n",
       "      <th>Income</th>\n",
       "      <th>WTS</th>\n",
       "    </tr>\n",
       "  </thead>\n",
       "  <tbody>\n",
       "    <tr>\n",
       "      <td>Age</td>\n",
       "      <td>1.000000</td>\n",
       "      <td>0.357247</td>\n",
       "      <td>0.099353</td>\n",
       "    </tr>\n",
       "    <tr>\n",
       "      <td>Income</td>\n",
       "      <td>0.357247</td>\n",
       "      <td>1.000000</td>\n",
       "      <td>0.233979</td>\n",
       "    </tr>\n",
       "    <tr>\n",
       "      <td>WTS</td>\n",
       "      <td>0.099353</td>\n",
       "      <td>0.233979</td>\n",
       "      <td>1.000000</td>\n",
       "    </tr>\n",
       "  </tbody>\n",
       "</table>\n",
       "</div>"
      ],
      "text/plain": [
       "             Age    Income       WTS\n",
       "Age     1.000000  0.357247  0.099353\n",
       "Income  0.357247  1.000000  0.233979\n",
       "WTS     0.099353  0.233979  1.000000"
      ]
     },
     "execution_count": 595,
     "metadata": {},
     "output_type": "execute_result"
    }
   ],
   "source": [
    "#Корреляция Спирмэна\n",
    "armenian_pubs.corr(method='spearman')"
   ]
  },
  {
   "cell_type": "markdown",
   "metadata": {},
   "source": [
    "не наблюдается явной зависимости между уровнем дохода и тратами, на удивление !"
   ]
  },
  {
   "cell_type": "markdown",
   "metadata": {},
   "source": [
    "# Теперь посмотрм на то, что люди ценят больше всего в пабе\n"
   ]
  },
  {
   "cell_type": "code",
   "execution_count": 596,
   "metadata": {},
   "outputs": [
    {
     "data": {
      "image/png": "[encoded data removed]",
      "text/plain": [
       "<Figure size 1080x720 with 1 Axes>"
      ]
     },
     "metadata": {
      "needs_background": "light"
     },
     "output_type": "display_data"
    }
   ],
   "source": [
    "# теперь посмотрм на то, что люди ценят больше всего в пабе\n",
    "\n",
    "width = 0.35    \n",
    "plt.title('Причины')\n",
    "p1 = plt.bar(armenian_pubs.Prim_Imp.value_counts().index,armenian_pubs.Prim_Imp.value_counts(), width )\n",
    "p2 = plt.bar(armenian_pubs.Prim_Imp.value_counts().index,armenian_pubs.Sec_Imp.value_counts()[armenian_pubs.Prim_Imp.value_counts().index], width, bottom=armenian_pubs.Prim_Imp.value_counts())\n",
    "plt.ylabel('Количество респондентов')\n",
    "plt.xlabel('Причина')\n",
    "plt.legend((p1[0], p2[0]), ('Первая важная причина', 'Вторая важная причина'))\n",
    "plt.show()"
   ]
  },
  {
   "cell_type": "code",
   "execution_count": 597,
   "metadata": {},
   "outputs": [
    {
     "name": "stdout",
     "output_type": "stream",
     "text": [
      "Prim_Imp:  Environment\n",
      "count      116.000000\n",
      "mean      4922.413793\n",
      "std       4275.615109\n",
      "min          0.000000\n",
      "25%       2000.000000\n",
      "50%       5000.000000\n",
      "75%       5000.000000\n",
      "max      30000.000000\n",
      "Name: WTS, dtype: float64\n",
      "\n",
      "\n",
      "Prim_Imp:  Music\n",
      "count       40.000000\n",
      "mean      5325.000000\n",
      "std       4742.808321\n",
      "min       1000.000000\n",
      "25%       3000.000000\n",
      "50%       4000.000000\n",
      "75%       5000.000000\n",
      "max      25000.000000\n",
      "Name: WTS, dtype: float64\n",
      "\n",
      "\n",
      "Prim_Imp:  Pricing\n",
      "count        8.000000\n",
      "mean      3375.000000\n",
      "std       3136.763573\n",
      "min          0.000000\n",
      "25%       1500.000000\n",
      "50%       2500.000000\n",
      "75%       4000.000000\n",
      "max      10000.000000\n",
      "Name: WTS, dtype: float64\n",
      "\n",
      "\n",
      "Prim_Imp:  Menu\n",
      "count        5.000000\n",
      "mean      4000.000000\n",
      "std       3446.012188\n",
      "min       1500.000000\n",
      "25%       2000.000000\n",
      "50%       3000.000000\n",
      "75%       3500.000000\n",
      "max      10000.000000\n",
      "Name: WTS, dtype: float64\n",
      "\n",
      "\n"
     ]
    }
   ],
   "source": [
    "# посмотрим на зависимость между причиной и тратами \n",
    "\n",
    "for i in armenian_pubs.Prim_Imp.unique():\n",
    "    #Выводим описательные статистики по каждому Prim_Imp для WTS\n",
    "    print('Prim_Imp: ', i)\n",
    "    print(armenian_pubs[armenian_pubs.Prim_Imp == i].WTS.describe())\n",
    "    print('\\n')"
   ]
  },
  {
   "cell_type": "code",
   "execution_count": 598,
   "metadata": {},
   "outputs": [
    {
     "data": {
      "image/png": "[encoded data removed]",
      "text/plain": [
       "<Figure size 1080x720 with 1 Axes>"
      ]
     },
     "metadata": {
      "needs_background": "light"
     },
     "output_type": "display_data"
    }
   ],
   "source": [
    "sns.boxplot(x='Prim_Imp', y='WTS', data=armenian_pubs)\n",
    "plt.show()"
   ]
  },
  {
   "cell_type": "code",
   "execution_count": 599,
   "metadata": {},
   "outputs": [
    {
     "data": {
      "text/plain": [
       "Prim_Imp\n",
       "Environment    4145.454545\n",
       "Menu           4000.000000\n",
       "Music          4421.052632\n",
       "Pricing        3375.000000\n",
       "Name: WTS, dtype: float64"
      ]
     },
     "execution_count": 599,
     "metadata": {},
     "output_type": "execute_result"
    }
   ],
   "source": [
    "#средний чек без выбросов\n",
    "armenian_pubs[armenian_pubs.WTS <= 10000].groupby(['Prim_Imp']).WTS.mean()"
   ]
  },
  {
   "cell_type": "markdown",
   "metadata": {},
   "source": [
    "видим, что больших различий между первыми тремя категориями нет"
   ]
  },
  {
   "cell_type": "markdown",
   "metadata": {},
   "source": [
    "# Посмотрим кто тратит больше - мужчины или женщины"
   ]
  },
  {
   "cell_type": "code",
   "execution_count": 600,
   "metadata": {},
   "outputs": [
    {
     "name": "stdout",
     "output_type": "stream",
     "text": [
      "Gender:  Male\n",
      "count       71.000000\n",
      "mean      6028.169014\n",
      "std       4882.100927\n",
      "min          0.000000\n",
      "25%       3000.000000\n",
      "50%       5000.000000\n",
      "75%       7000.000000\n",
      "max      25000.000000\n",
      "Name: WTS, dtype: float64 \n",
      "\n",
      "Gender:  Female\n",
      "count       98.000000\n",
      "mean      4112.244898\n",
      "std       3669.693807\n",
      "min          0.000000\n",
      "25%       2000.000000\n",
      "50%       3000.000000\n",
      "75%       5000.000000\n",
      "max      30000.000000\n",
      "Name: WTS, dtype: float64 \n",
      "\n"
     ]
    },
    {
     "data": {
      "image/png": "[encoded data removed]",
      "text/plain": [
       "<Figure size 1080x720 with 1 Axes>"
      ]
     },
     "metadata": {
      "needs_background": "light"
     },
     "output_type": "display_data"
    }
   ],
   "source": [
    "# посмотрим кто тратит больше - мужчины или женщины\n",
    "\n",
    "for i in armenian_pubs.Gender.unique():\n",
    "    #Выводим графики распределенией\n",
    "    plt.hist(armenian_pubs[armenian_pubs.Gender == i].WTS,bins = range(0,30000,1000),label = i, alpha = 0.5, density = 1)\n",
    "    #Выводим описательные статистики по каждому Genger для WTS\n",
    "    print('Gender: ', i)\n",
    "    print(armenian_pubs[armenian_pubs.Gender == i].WTS.describe(),'\\n')\n",
    "plt.title('WTS')\n",
    "plt.xlabel('WTS')\n",
    "plt.legend()\n",
    "plt.show()"
   ]
  },
  {
   "cell_type": "code",
   "execution_count": 601,
   "metadata": {},
   "outputs": [
    {
     "name": "stdout",
     "output_type": "stream",
     "text": [
      "Statistics=2484.000, p=0.001\n",
      "Different distribution (reject H0)\n"
     ]
    }
   ],
   "source": [
    "# Mann-Whitney U test\n",
    "\n",
    "from scipy.stats import mannwhitneyu\n",
    "data1 = armenian_pubs[armenian_pubs.Gender == 'Male'].WTS\n",
    "data2 = armenian_pubs[armenian_pubs.Gender == 'Female'].WTS\n",
    "\n",
    "stat, p = mannwhitneyu(data1, data2)\n",
    "print('Statistics=%.3f, p=%.3f' % (stat, p))\n",
    "\n",
    "alpha = 0.05\n",
    "if p > alpha:\n",
    "    print('Same distribution (fail to reject H0)')\n",
    "else:\n",
    "    print('Different distribution (reject H0)')"
   ]
  },
  {
   "cell_type": "markdown",
   "metadata": {},
   "source": [
    " видим, что распределения действительно разные и  мужчины тратят больше женщин"
   ]
  },
  {
   "cell_type": "code",
   "execution_count": 602,
   "metadata": {},
   "outputs": [
    {
     "data": {
      "image/png": "[encoded data removed]",
      "text/plain": [
       "<Figure size 1080x720 with 1 Axes>"
      ]
     },
     "metadata": {
      "needs_background": "light"
     },
     "output_type": "display_data"
    }
   ],
   "source": [
    "# посмотрим на то, какие пабы любимые у респондентов\n",
    "\n",
    "p1 = plt.barh(armenian_pubs.Fav_Pub.value_counts().index,armenian_pubs.Fav_Pub.value_counts() )\n",
    "plt.ylabel('Favorite pub')\n",
    "plt.xlabel('Количество респондентов')\n",
    "plt.show()"
   ]
  },
  {
   "cell_type": "markdown",
   "metadata": {},
   "source": [
    "В итоге мы узнали, что на дни рождения тратят больше всего денег и для бизнеса было бы хорошо привлекать побольше именинников.\n",
    "Узнали, что мужчины тратят больше, а так же, что нет выраженной зависимости между уровнем дохода и уровнем трат, поэтому стоит привлекать больше мужчин и нет смысла делать ставку на привлечение обеспеченных клиентов.\n",
    "Так же выяснили, что наиболее важные причины - обстановка и музыка, а люди указавшие причину \"цена\" тратят в среднем меньше, поэтому упор стоит сделать на первые две.\n",
    "И, возможно, нам стоит посетить пабы station и calumet и изучить их получше, раз они так популярны :)"
   ]
  },
  {
   "cell_type": "code",
   "execution_count": null,
   "metadata": {},
   "outputs": [],
   "source": []
  }
 ],
 "metadata": {
  "kernelspec": {
   "display_name": "Python 3",
   "language": "python",
   "name": "python3"
  },
  "language_info": {
   "codemirror_mode": {
    "name": "ipython",
    "version": 3
   },
   "file_extension": ".py",
   "mimetype": "text/x-python",
   "name": "python",
   "nbconvert_exporter": "python",
   "pygments_lexer": "ipython3",
   "version": "3.7.4"
  }
 },
 "nbformat": 4,
 "nbformat_minor": 4
}
